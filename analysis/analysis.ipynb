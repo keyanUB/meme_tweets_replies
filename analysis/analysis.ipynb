{
 "cells": [
  {
   "cell_type": "code",
   "execution_count": 2,
   "metadata": {},
   "outputs": [],
   "source": [
    "import pandas as pd\n",
    "from tool import *\n",
    "\n",
    "from tqdm.notebook import tqdm"
   ]
  },
  {
   "cell_type": "markdown",
   "metadata": {},
   "source": [
    "### Load dataset"
   ]
  },
  {
   "cell_type": "code",
   "execution_count": 3,
   "metadata": {},
   "outputs": [
    {
     "name": "stdout",
     "output_type": "stream",
     "text": [
      "we have 4100 meme replies and 6149\n"
     ]
    }
   ],
   "source": [
    "# read the data and we already removed the duplicates, only @mentions, #hashtags, and links\n",
    "df = pd.read_csv('../data/combined.csv')\n",
    "print(f\"we have {df[df['source']=='meme'].shape[0]} meme replies and {df[df['source']=='tweet'].shape[0]}\")"
   ]
  },
  {
   "cell_type": "markdown",
   "metadata": {},
   "source": [
    "### Get the LIWC Results"
   ]
  },
  {
   "cell_type": "code",
   "execution_count": 3,
   "metadata": {},
   "outputs": [
    {
     "name": "stdout",
     "output_type": "stream",
     "text": [
      "meme replies:\n",
      "+--------------------+---------------------+\n",
      "|      Category      |      Avg Score      |\n",
      "+--------------------+---------------------+\n",
      "|        Tone        |  28.458807317073173 |\n",
      "|    Hate Speech     | 0.06030824597729024 |\n",
      "| Offensive Language | 0.37418861186113966 |\n",
      "|  Negative Emotion  |  1.4636268292682926 |\n",
      "|      Anxiety       | 0.12894390243902437 |\n",
      "|       Anger        |  0.1652609756097561 |\n",
      "|      Sadness       | 0.07320731707317074 |\n",
      "|       Swear        |  0.7114317073170732 |\n",
      "+--------------------+---------------------+\n",
      "the percetage of negtive tone: 0.7817073170731708\n"
     ]
    }
   ],
   "source": [
    "# get the scores for meme replies\n",
    "print(\"meme replies:\")\n",
    "get_scores(df, 'meme')"
   ]
  },
  {
   "cell_type": "code",
   "execution_count": 4,
   "metadata": {},
   "outputs": [
    {
     "name": "stdout",
     "output_type": "stream",
     "text": [
      "tweet replies:\n",
      "+--------------------+---------------------+\n",
      "|      Category      |      Avg Score      |\n",
      "+--------------------+---------------------+\n",
      "|        Tone        |  30.667280416395577 |\n",
      "|    Hate Speech     | 0.06074523008323755 |\n",
      "| Offensive Language |  0.3828556509830399 |\n",
      "|  Negative Emotion  |  1.4261109303838646 |\n",
      "|      Anxiety       | 0.16479017566688353 |\n",
      "|       Anger        | 0.25384352635003254 |\n",
      "|      Sadness       | 0.18806766428106705 |\n",
      "|       Swear        |  1.4149040338321406 |\n",
      "+--------------------+---------------------+\n",
      "the percetage of negtive tone: 0.7731338429012847\n"
     ]
    }
   ],
   "source": [
    "# get the scores for meme replies\n",
    "print(\"tweet replies:\")\n",
    "get_scores(df, 'tweet')"
   ]
  },
  {
   "cell_type": "markdown",
   "metadata": {},
   "source": [
    "For 2020"
   ]
  },
  {
   "cell_type": "code",
   "execution_count": 3,
   "metadata": {},
   "outputs": [
    {
     "name": "stdout",
     "output_type": "stream",
     "text": [
      "meme replies in 2020:\n",
      "+--------------------+---------------------+\n",
      "|      Category      |      Avg Score      |\n",
      "+--------------------+---------------------+\n",
      "|        Tone        |  27.65763172490294  |\n",
      "|    Hate Speech     | 0.06156391891542316 |\n",
      "| Offensive Language | 0.37492644840709755 |\n",
      "|  Negative Emotion  |  1.4501497504159733 |\n",
      "|      Anxiety       | 0.10785912368275097 |\n",
      "|       Anger        | 0.20637825845812535 |\n",
      "|      Sadness       | 0.10894620077648365 |\n",
      "|       Swear        |  0.8342373821408764 |\n",
      "+--------------------+---------------------+\n",
      "the percetage of negtive tone: 0.7947864669994453\n"
     ]
    }
   ],
   "source": [
    "# get the scores for replies in 2020\n",
    "df_2020 = df[df['month'].str.contains('2020')]\n",
    "print(\"meme replies in 2020:\")\n",
    "get_scores(df_2020, 'meme')\n"
   ]
  },
  {
   "cell_type": "code",
   "execution_count": 4,
   "metadata": {},
   "outputs": [
    {
     "name": "stdout",
     "output_type": "stream",
     "text": [
      "tweet replies:\n",
      "+--------------------+---------------------+\n",
      "|      Category      |      Avg Score      |\n",
      "+--------------------+---------------------+\n",
      "|        Tone        |  30.861137912952284 |\n",
      "|    Hate Speech     | 0.06338522996315431 |\n",
      "| Offensive Language |  0.3894611562510492 |\n",
      "|  Negative Emotion  |  1.361206082852648  |\n",
      "|      Anxiety       |  0.1547351861562664 |\n",
      "|       Anger        | 0.26198741478762455 |\n",
      "|      Sadness       |  0.2105034084950184 |\n",
      "|       Swear        |  1.6694310435238595 |\n",
      "+--------------------+---------------------+\n",
      "the percetage of negtive tone: 0.7711064499213425\n"
     ]
    }
   ],
   "source": [
    "print(\"tweet replies:\")\n",
    "get_scores(df_2020, 'tweet')"
   ]
  },
  {
   "cell_type": "markdown",
   "metadata": {},
   "source": [
    "For 2021"
   ]
  },
  {
   "cell_type": "code",
   "execution_count": 5,
   "metadata": {},
   "outputs": [
    {
     "name": "stdout",
     "output_type": "stream",
     "text": [
      "meme replies in 2021:\n",
      "+--------------------+----------------------+\n",
      "|      Category      |      Avg Score       |\n",
      "+--------------------+----------------------+\n",
      "|        Tone        |  29.10982929515419   |\n",
      "|    Hate Speech     | 0.05800314079884974  |\n",
      "| Offensive Language |  0.3719776125751748  |\n",
      "|  Negative Emotion  |  1.4400991189427315  |\n",
      "|      Anxiety       |  0.1359691629955947  |\n",
      "|       Anger        | 0.13834251101321587  |\n",
      "|      Sadness       | 0.041888766519823796 |\n",
      "|       Swear        |  0.6461508810572688  |\n",
      "+--------------------+----------------------+\n",
      "the percetage of negtive tone: 0.7736784140969163\n"
     ]
    }
   ],
   "source": [
    "# get the scores for replies in 2021\n",
    "df_2021 = df[df['month'].str.contains('2021')]\n",
    "print(\"meme replies in 2021:\")\n",
    "get_scores(df_2021, 'meme')"
   ]
  },
  {
   "cell_type": "code",
   "execution_count": 6,
   "metadata": {},
   "outputs": [
    {
     "name": "stdout",
     "output_type": "stream",
     "text": [
      "tweet replies:\n",
      "+--------------------+---------------------+\n",
      "|      Category      |      Avg Score      |\n",
      "+--------------------+---------------------+\n",
      "|        Tone        |  29.02663646659117  |\n",
      "|    Hate Speech     | 0.05784308444292528 |\n",
      "| Offensive Language |  0.3725047411839015 |\n",
      "|  Negative Emotion  |  1.495356738391846  |\n",
      "|      Anxiety       | 0.20264439411098528 |\n",
      "|       Anger        |  0.2322933182332956 |\n",
      "|      Sadness       |  0.1553850509626274 |\n",
      "|       Swear        |  0.9760985277463193 |\n",
      "+--------------------+---------------------+\n",
      "the percetage of negtive tone: 0.7911714770797963\n"
     ]
    }
   ],
   "source": [
    "print(\"tweet replies:\")\n",
    "get_scores(df_2021, 'tweet')"
   ]
  },
  {
   "cell_type": "markdown",
   "metadata": {},
   "source": [
    "For 2022"
   ]
  },
  {
   "cell_type": "code",
   "execution_count": 7,
   "metadata": {},
   "outputs": [
    {
     "name": "stdout",
     "output_type": "stream",
     "text": [
      "meme replies in 2021:\n",
      "+--------------------+---------------------+\n",
      "|      Category      |      Avg Score      |\n",
      "+--------------------+---------------------+\n",
      "|        Tone        |  29.004054054054055 |\n",
      "|    Hate Speech     |  0.0643042806895445 |\n",
      "| Offensive Language |  0.3797704318423247 |\n",
      "|  Negative Emotion  |  1.602972972972973  |\n",
      "|      Anxiety       | 0.18145530145530145 |\n",
      "|       Anger        | 0.11276507276507275 |\n",
      "|      Sadness       | 0.05748440748440748 |\n",
      "|       Swear        |  0.4975675675675676 |\n",
      "+--------------------+---------------------+\n",
      "the percetage of negtive tone: 0.762993762993763\n"
     ]
    }
   ],
   "source": [
    "# get the scores for replies in 2022\n",
    "df_2022 = df[df['month'].str.contains('2022')]\n",
    "print(\"meme replies in 2021:\")\n",
    "get_scores(df_2022, 'meme')"
   ]
  },
  {
   "cell_type": "code",
   "execution_count": 8,
   "metadata": {},
   "outputs": [
    {
     "name": "stdout",
     "output_type": "stream",
     "text": [
      "tweet replies:\n",
      "+--------------------+---------------------+\n",
      "|      Category      |      Avg Score      |\n",
      "+--------------------+---------------------+\n",
      "|        Tone        |  34.466584507042256 |\n",
      "|    Hate Speech     | 0.05204651847131725 |\n",
      "| Offensive Language | 0.37070188429798795 |\n",
      "|  Negative Emotion  |  1.6466373239436618 |\n",
      "|      Anxiety       | 0.11461267605633801 |\n",
      "|       Anger        | 0.26616197183098594 |\n",
      "|      Sadness       | 0.13903169014084507 |\n",
      "|       Swear        |  1.0701232394366196 |\n",
      "+--------------------+---------------------+\n",
      "the percetage of negtive tone: 0.7306338028169014\n"
     ]
    }
   ],
   "source": [
    "print(\"tweet replies:\")\n",
    "get_scores(df_2022, 'tweet')"
   ]
  },
  {
   "cell_type": "markdown",
   "metadata": {},
   "source": [
    "### Welch T-Test"
   ]
  },
  {
   "cell_type": "code",
   "execution_count": 11,
   "metadata": {},
   "outputs": [],
   "source": [
    "df_meme_reply_sample = df[df['source']=='meme'].sample(n=3000)\n",
    "df_tweet_reply_sample = df[df['source']=='tweet'].sample(n=3000)"
   ]
  },
  {
   "cell_type": "code",
   "execution_count": 12,
   "metadata": {},
   "outputs": [
    {
     "name": "stdout",
     "output_type": "stream",
     "text": [
      "t-test for meme replies and tweet replies:\n",
      "+--------------------+----------------------+-----------------------+\n",
      "|      Category      |       T-value        |        P-value        |\n",
      "+--------------------+----------------------+-----------------------+\n",
      "|        Tone        |  -2.26835703622629   |  0.023342846964758978 |\n",
      "|    Hate Speech     | -1.2149273089889214  |  0.22444164079383733  |\n",
      "| Offensive Language | -2.0723575055119103  |  0.038274736800555306 |\n",
      "|  Negative Emotion  | -0.07909216773599972 |   0.9369619516838343  |\n",
      "|      Anxiety       | -1.8095553477137103  |  0.07041480668551955  |\n",
      "|       Anger        | -3.1548005937007515  | 0.0016140172924786124 |\n",
      "|      Sadness       | -3.1782537031017224  | 0.0014891770056679415 |\n",
      "|       Swear        |  -6.597085863967814  | 4.552184945701526e-11 |\n",
      "+--------------------+----------------------+-----------------------+\n"
     ]
    }
   ],
   "source": [
    "# t-test\n",
    "print(\"t-test for meme replies and tweet replies:\")\n",
    "ttest(df_meme_reply_sample, df_tweet_reply_sample)"
   ]
  },
  {
   "cell_type": "markdown",
   "metadata": {},
   "source": [
    "For 2020\n"
   ]
  },
  {
   "cell_type": "code",
   "execution_count": 13,
   "metadata": {},
   "outputs": [
    {
     "name": "stdout",
     "output_type": "stream",
     "text": [
      "t-test for meme replies and tweet replies in 2020:\n",
      "+--------------------+----------------------+-----------------------+\n",
      "|      Category      |       T-value        |        P-value        |\n",
      "+--------------------+----------------------+-----------------------+\n",
      "|        Tone        | -1.9811608241829195  |  0.04771014033632166  |\n",
      "|    Hate Speech     | -1.3154857540643798  |   0.1884976345496671  |\n",
      "| Offensive Language | -1.9418602839358645  |   0.0522944100505069  |\n",
      "|  Negative Emotion  | -0.26562609617573446 |   0.7905545896275701  |\n",
      "|      Anxiety       | 0.07756592334132732  |   0.9381811164455462  |\n",
      "|       Anger        | -0.9843464081167038  |  0.32506440008784265  |\n",
      "|      Sadness       | -1.6674304353432796  |  0.09558555951042733  |\n",
      "|       Swear        |  -4.292725546189486  | 1.849370113294422e-05 |\n",
      "+--------------------+----------------------+-----------------------+\n"
     ]
    }
   ],
   "source": [
    "df_meme_2020_sample = df_2020[df_2020['source']=='meme'].sample(n=1000)\n",
    "df_tweet_2020_sample = df_2020[df_2020['source']=='tweet'].sample(n=1000)\n",
    "\n",
    "# t-test\n",
    "print(\"t-test for meme replies and tweet replies in 2020:\")\n",
    "ttest(df_meme_2020_sample, df_tweet_2020_sample)"
   ]
  },
  {
   "cell_type": "markdown",
   "metadata": {},
   "source": [
    "For 2021"
   ]
  },
  {
   "cell_type": "code",
   "execution_count": 20,
   "metadata": {},
   "outputs": [
    {
     "name": "stdout",
     "output_type": "stream",
     "text": [
      "t-test for meme replies and tweet replies in 2021:\n",
      "+--------------------+----------------------+----------------------+\n",
      "|      Category      |       T-value        |       P-value        |\n",
      "+--------------------+----------------------+----------------------+\n",
      "|        Tone        |  0.9571546939829709  |  0.3387209823040995  |\n",
      "|    Hate Speech     | -0.41356652277174527 |  0.6792804457717638  |\n",
      "| Offensive Language |  0.7865507437889098  | 0.43173162755867134  |\n",
      "|  Negative Emotion  |  -2.013581702511021  | 0.044321504506169285 |\n",
      "|      Anxiety       | -0.9362408914324081  |  0.3493756658108287  |\n",
      "|       Anger        | -2.5632353483615575  | 0.010515776497508938 |\n",
      "|      Sadness       | -1.3100659099145415  | 0.19047499182923947  |\n",
      "|       Swear        |  -2.324301092864818  | 0.020309323565254733 |\n",
      "+--------------------+----------------------+----------------------+\n"
     ]
    }
   ],
   "source": [
    "df_meme_2021_sample = df_2021[df_2021['source']=='meme'].sample(n=500)\n",
    "df_tweet_2021_sample = df_2021[df_2021['source']=='tweet'].sample(n=500)\n",
    "\n",
    "# t-test\n",
    "print(\"t-test for meme replies and tweet replies in 2021:\")\n",
    "ttest(df_meme_2021_sample, df_tweet_2021_sample)"
   ]
  },
  {
   "cell_type": "markdown",
   "metadata": {},
   "source": [
    "For 2022"
   ]
  },
  {
   "cell_type": "code",
   "execution_count": 15,
   "metadata": {},
   "outputs": [
    {
     "name": "stdout",
     "output_type": "stream",
     "text": [
      "t-test for meme replies and tweet replies in 2022:\n",
      "+--------------------+---------------------+-----------------------+\n",
      "|      Category      |       T-value       |        P-value        |\n",
      "+--------------------+---------------------+-----------------------+\n",
      "|        Tone        |  -3.085730919420545 |  0.002100636428653971 |\n",
      "|    Hate Speech     |  4.534243736031117  | 6.667632710407525e-06 |\n",
      "| Offensive Language |  1.6970632385770557 |  0.09007464539424816  |\n",
      "|  Negative Emotion  |  0.4112904597783196 |   0.680969994668021   |\n",
      "|      Anxiety       | 0.36501863400904594 |   0.715194214189234   |\n",
      "|       Anger        | -0.3523319371624353 |   0.7246823681933321  |\n",
      "|      Sadness       | -0.8111016571484403 |   0.4175491370795107  |\n",
      "|       Swear        | -1.8600612934795149 |   0.0632445872477189  |\n",
      "+--------------------+---------------------+-----------------------+\n"
     ]
    }
   ],
   "source": [
    "df_meme_2022_sample = df_2022[df_2022['source']=='meme'].sample(n=400)\n",
    "df_tweet_2022_sample = df_2022[df_2022['source']=='tweet'].sample(n=400)\n",
    "\n",
    "# t-test\n",
    "print(\"t-test for meme replies and tweet replies in 2022:\")\n",
    "ttest(df_meme_2022_sample, df_tweet_2022_sample)"
   ]
  },
  {
   "cell_type": "markdown",
   "metadata": {},
   "source": [
    "### Linear Model"
   ]
  },
  {
   "cell_type": "markdown",
   "metadata": {},
   "source": [
    "Tone, HS, OL, NE, Anx, Anger, Sad, Swear"
   ]
  },
  {
   "cell_type": "code",
   "execution_count": 97,
   "metadata": {},
   "outputs": [
    {
     "name": "stdout",
     "output_type": "stream",
     "text": [
      "linear model of Tone Score for meme replies:\n",
      "The statistical significance of the replies is:\n",
      "R-squared: 0.000000\n",
      "p-value: 0.992140\n",
      "standard error: 0.009886\n",
      "intercept: 29.628357\n",
      "slope: 0.000097\n"
     ]
    }
   ],
   "source": [
    "# print the linear model summary for meme replies\n",
    "print(\"linear model of Tone Score for meme replies:\")\n",
    "linear_Tone = linear_model_status(df[df['source']=='meme'], 'Tone')"
   ]
  },
  {
   "cell_type": "code",
   "execution_count": 99,
   "metadata": {},
   "outputs": [
    {
     "name": "stdout",
     "output_type": "stream",
     "text": [
      "linear model of HS for meme replies:\n",
      "The statistical significance of the replies is:\n",
      "R-squared: 0.000052\n",
      "p-value: 0.881018\n",
      "standard error: 0.000012\n",
      "intercept: 0.058901\n",
      "slope: -0.000002\n"
     ]
    }
   ],
   "source": [
    "# print the linear model summary for meme replies\n",
    "print(\"linear model of HS for meme replies:\")\n",
    "linear_hs = linear_model_status(df[df['source']=='meme'], 'HS')"
   ]
  },
  {
   "cell_type": "code",
   "execution_count": 102,
   "metadata": {},
   "outputs": [
    {
     "name": "stdout",
     "output_type": "stream",
     "text": [
      "linear model of OL for meme replies:\n",
      "The statistical significance of the replies is:\n",
      "R-squared: 0.001478\n",
      "p-value: 0.424380\n",
      "standard error: 0.000036\n",
      "intercept: 0.376578\n",
      "slope: -0.000029\n"
     ]
    }
   ],
   "source": [
    "# print the linear model summary for meme replies\n",
    "print(\"linear model of OL for meme replies:\")\n",
    "linear_OS = linear_model_status(df[df['source']=='meme'], 'OL')"
   ]
  },
  {
   "cell_type": "code",
   "execution_count": 103,
   "metadata": {},
   "outputs": [
    {
     "name": "stdout",
     "output_type": "stream",
     "text": [
      "linear model of OL for meme replies:\n",
      "The statistical significance of the replies is:\n",
      "R-squared: 0.010573\n",
      "p-value: 0.032220\n",
      "standard error: 0.001660\n",
      "intercept: 1.116432\n",
      "slope: 0.003566\n"
     ]
    }
   ],
   "source": [
    "# print the linear model summary for meme replies\n",
    "print(\"linear model of Negative Emotion for meme replies:\")\n",
    "linear_neg = linear_model_status(df[df['source']=='meme'], 'emo_neg')"
   ]
  },
  {
   "cell_type": "code",
   "execution_count": 106,
   "metadata": {},
   "outputs": [
    {
     "name": "stdout",
     "output_type": "stream",
     "text": [
      "linear model of Anxiety for meme replies:\n",
      "The statistical significance of the replies is:\n",
      "R-squared: 0.007237\n",
      "p-value: 0.076659\n",
      "standard error: 0.000313\n",
      "intercept: 0.018720\n",
      "slope: 0.000556\n"
     ]
    }
   ],
   "source": [
    "# print the linear model summary for meme replies\n",
    "print(\"linear model of Anxiety for meme replies:\")\n",
    "linear_anx = linear_model_status(df[df['source']=='meme'], 'emo_anx')"
   ]
  },
  {
   "cell_type": "code",
   "execution_count": 107,
   "metadata": {},
   "outputs": [
    {
     "name": "stdout",
     "output_type": "stream",
     "text": [
      "linear model of Anger for meme replies:\n",
      "The statistical significance of the replies is:\n",
      "R-squared: 0.003611\n",
      "p-value: 0.211522\n",
      "standard error: 0.000286\n",
      "intercept: 0.226345\n",
      "slope: -0.000358\n"
     ]
    }
   ],
   "source": [
    "# print the linear model summary for meme replies\n",
    "print(\"linear model of Anger for meme replies:\")\n",
    "linear_anger = linear_model_status(df[df['source']=='meme'], 'emo_anger')"
   ]
  },
  {
   "cell_type": "code",
   "execution_count": 108,
   "metadata": {},
   "outputs": [
    {
     "name": "stdout",
     "output_type": "stream",
     "text": [
      "linear model of Sadness for meme replies:\n",
      "The statistical significance of the replies is:\n",
      "R-squared: 0.001036\n",
      "p-value: 0.503561\n",
      "standard error: 0.000129\n",
      "intercept: 0.082723\n",
      "slope: -0.000087\n"
     ]
    }
   ],
   "source": [
    "# print the linear model summary for meme replies\n",
    "print(\"linear model of Sadness for meme replies:\")\n",
    "linear_sad = linear_model_status(df[df['source']=='meme'], 'emo_sad')"
   ]
  },
  {
   "cell_type": "code",
   "execution_count": 109,
   "metadata": {},
   "outputs": [
    {
     "name": "stdout",
     "output_type": "stream",
     "text": [
      "linear model of Swear for meme replies:\n",
      "The statistical significance of the replies is:\n",
      "R-squared: 0.005056\n",
      "p-value: 0.139167\n",
      "standard error: 0.001021\n",
      "intercept: 1.185814\n",
      "slope: -0.001513\n"
     ]
    }
   ],
   "source": [
    "# print the linear model summary for meme replies\n",
    "print(\"linear model of Swear for meme replies:\")\n",
    "linear_swear = linear_model_status(df[df['source']=='meme'], 'swear')"
   ]
  },
  {
   "cell_type": "markdown",
   "metadata": {},
   "source": [
    "For 2020"
   ]
  },
  {
   "cell_type": "code",
   "execution_count": 115,
   "metadata": {},
   "outputs": [
    {
     "name": "stdout",
     "output_type": "stream",
     "text": [
      "linear model of Tone Score for tweet replies:\n",
      "Tone Score for replies:\n",
      "The statistical significance of the replies is:\n",
      "R-squared: 0.013535\n",
      "p-value: 0.085864\n",
      "standard error: 0.024752\n",
      "intercept: 33.232039\n",
      "slope: -0.042710\n",
      "=====================================================================================================\n",
      "HS for replies:\n",
      "The statistical significance of the replies is:\n",
      "R-squared: 0.003865\n",
      "p-value: 0.359842\n",
      "standard error: 0.000040\n",
      "intercept: 0.062453\n",
      "slope: -0.000036\n",
      "=====================================================================================================\n",
      "OL for replies:\n",
      "The statistical significance of the replies is:\n",
      "R-squared: 0.009851\n",
      "p-value: 0.143200\n",
      "standard error: 0.000099\n",
      "intercept: 0.387892\n",
      "slope: -0.000145\n"
     ]
    }
   ],
   "source": [
    "print(\"linear model of Tone Score for tweet replies:\")\n",
    "print(\"Tone Score for replies:\")\n",
    "linear_Tone = linear_model_status(df_2020[df_2020['source']=='meme'], 'Tone')\n",
    "print(\"=====================================================================================================\")\n",
    "print(\"HS for replies:\")\n",
    "linear_hs = linear_model_status(df_2020[df_2020['source']=='meme'], 'HS')\n",
    "print(\"=====================================================================================================\")\n",
    "print(\"OL for replies:\")\n",
    "linear_OS = linear_model_status(df_2020[df_2020['source']=='meme'], 'OL')\n"
   ]
  },
  {
   "cell_type": "code",
   "execution_count": 117,
   "metadata": {},
   "outputs": [
    {
     "name": "stdout",
     "output_type": "stream",
     "text": [
      "=====================================================================================================\n",
      "Negative for replies:\n",
      "The statistical significance of the replies is:\n",
      "R-squared: 0.013520\n",
      "p-value: 0.086038\n",
      "standard error: 0.002425\n",
      "intercept: 1.184711\n",
      "slope: 0.004183\n",
      "=====================================================================================================\n",
      "Anxiety for replies:\n",
      "The statistical significance of the replies is:\n",
      "R-squared: 0.008393\n",
      "p-value: 0.176759\n",
      "standard error: 0.000418\n",
      "intercept: 0.021533\n",
      "slope: 0.000566\n",
      "=====================================================================================================\n"
     ]
    }
   ],
   "source": [
    "print(\"=====================================================================================================\")\n",
    "print(\"Negative for replies:\")\n",
    "linear_neg = linear_model_status(df_2020[df_2020['source']=='meme'], 'emo_neg')\n",
    "print(\"=====================================================================================================\")\n",
    "print(\"Anxiety for replies:\")\n",
    "linear_anx = linear_model_status(df_2020[df_2020['source']=='meme'], 'emo_anx')\n",
    "print(\"=====================================================================================================\")"
   ]
  },
  {
   "cell_type": "code",
   "execution_count": 118,
   "metadata": {},
   "outputs": [
    {
     "name": "stdout",
     "output_type": "stream",
     "text": [
      "Anger for replies:\n",
      "The statistical significance of the replies is:\n",
      "R-squared: 0.000230\n",
      "p-value: 0.823566\n",
      "standard error: 0.000927\n",
      "intercept: 0.176374\n",
      "slope: 0.000207\n",
      "=====================================================================================================\n",
      "Sadness for replies:\n",
      "The statistical significance of the replies is:\n",
      "R-squared: 0.000319\n",
      "p-value: 0.792678\n",
      "standard error: 0.000410\n",
      "intercept: 0.066045\n",
      "slope: 0.000108\n",
      "=====================================================================================================\n",
      "Swear for replies:\n",
      "The statistical significance of the replies is:\n",
      "R-squared: 0.008406\n",
      "p-value: 0.176408\n",
      "standard error: 0.003308\n",
      "intercept: 1.484847\n",
      "slope: -0.004487\n"
     ]
    }
   ],
   "source": [
    "print(\"Anger for replies:\")\n",
    "linear_anger = linear_model_status(df_2020[df_2020['source']=='meme'], 'emo_anger')\n",
    "print(\"=====================================================================================================\")\n",
    "print(\"Sadness for replies:\")\n",
    "linear_sad = linear_model_status(df_2020[df_2020['source']=='meme'], 'emo_sad')\n",
    "print(\"=====================================================================================================\")\n",
    "print(\"Swear for replies:\")\n",
    "linear_swear = linear_model_status(df_2020[df_2020['source']=='meme'], 'swear')"
   ]
  },
  {
   "cell_type": "markdown",
   "metadata": {},
   "source": [
    "For 2021"
   ]
  },
  {
   "cell_type": "code",
   "execution_count": 119,
   "metadata": {},
   "outputs": [
    {
     "name": "stdout",
     "output_type": "stream",
     "text": [
      "linear model of Tone Score for meme replies:\n",
      "The statistical significance of the replies is:\n",
      "R-squared: 0.014678\n",
      "p-value: 0.150941\n",
      "standard error: 0.053681\n",
      "intercept: 35.212211\n",
      "slope: -0.077521\n",
      "=====================================================================================================\n",
      "HS for replies:\n",
      "The statistical significance of the replies is:\n",
      "R-squared: 0.006517\n",
      "p-value: 0.339550\n",
      "standard error: 0.000051\n",
      "intercept: 0.060102\n",
      "slope: -0.000049\n",
      "=====================================================================================================\n",
      "OL for replies:\n",
      "The statistical significance of the replies is:\n",
      "R-squared: 0.000091\n",
      "p-value: 0.910336\n",
      "standard error: 0.000192\n",
      "intercept: 0.365989\n",
      "slope: 0.000022\n"
     ]
    }
   ],
   "source": [
    "# print the linear model summary for meme replies\n",
    "print(\"linear model of Tone Score for meme replies:\")\n",
    "linear_Tone = linear_model_status(df_2021[df_2021['source']=='meme'], 'Tone')\n",
    "print(\"=====================================================================================================\")\n",
    "print(\"HS for replies:\")\n",
    "linear_hs = linear_model_status(df_2021[df_2021['source']=='meme'], 'HS')\n",
    "print(\"=====================================================================================================\")\n",
    "print(\"OL for replies:\")\n",
    "linear_OS = linear_model_status(df_2021[df_2021['source']=='meme'], 'OL')"
   ]
  },
  {
   "cell_type": "code",
   "execution_count": 120,
   "metadata": {},
   "outputs": [
    {
     "name": "stdout",
     "output_type": "stream",
     "text": [
      "linear model of Negtive for meme replies:\n",
      "The statistical significance of the replies is:\n",
      "R-squared: 0.018020\n",
      "p-value: 0.111228\n",
      "standard error: 0.006443\n",
      "intercept: 1.197147\n",
      "slope: 0.010327\n",
      "=====================================================================================================\n",
      "linear model of Anxiety for meme replies:\n",
      "The statistical significance of the replies is:\n",
      "R-squared: 0.011543\n",
      "p-value: 0.203150\n",
      "standard error: 0.002652\n",
      "intercept: -0.024211\n",
      "slope: 0.003391\n"
     ]
    }
   ],
   "source": [
    "print(\"linear model of Negtive for meme replies:\")\n",
    "linear_neg = linear_model_status(df_2021[df_2021['source']=='meme'], 'emo_neg')\n",
    "print(\"=====================================================================================================\")\n",
    "print(\"linear model of Anxiety for meme replies:\")\n",
    "linear_anx = linear_model_status(df_2021[df_2021['source']=='meme'], 'emo_anx')\n"
   ]
  },
  {
   "cell_type": "code",
   "execution_count": 121,
   "metadata": {},
   "outputs": [
    {
     "name": "stdout",
     "output_type": "stream",
     "text": [
      "linear model of Anger for meme replies:\n",
      "The statistical significance of the replies is:\n",
      "R-squared: 0.004546\n",
      "p-value: 0.425316\n",
      "standard error: 0.001493\n",
      "intercept: 0.045648\n",
      "slope: 0.001193\n",
      "=====================================================================================================\n",
      "linear model of Sadness for meme replies:\n",
      "The statistical significance of the replies is:\n",
      "R-squared: 0.002536\n",
      "p-value: 0.551748\n",
      "standard error: 0.000665\n",
      "intercept: 0.027587\n",
      "slope: 0.000397\n",
      "=====================================================================================================\n",
      "linear model of Swear for meme replies:\n",
      "The statistical significance of the replies is:\n",
      "R-squared: 0.016161\n",
      "p-value: 0.131655\n",
      "standard error: 0.004717\n",
      "intercept: 0.290335\n",
      "slope: 0.007154\n"
     ]
    }
   ],
   "source": [
    "print(\"linear model of Anger for meme replies:\")\n",
    "linear_anger = linear_model_status(df_2021[df_2021['source']=='meme'], 'emo_anger')\n",
    "print(\"=====================================================================================================\")\n",
    "print(\"linear model of Sadness for meme replies:\")\n",
    "linear_sad = linear_model_status(df_2021[df_2021['source']=='meme'], 'emo_sad')\n",
    "print(\"=====================================================================================================\")\n",
    "print(\"linear model of Swear for meme replies:\")\n",
    "linear_swear = linear_model_status(df_2021[df_2021['source']=='meme'], 'swear')"
   ]
  },
  {
   "cell_type": "markdown",
   "metadata": {},
   "source": [
    "For 2022"
   ]
  },
  {
   "cell_type": "code",
   "execution_count": 122,
   "metadata": {},
   "outputs": [
    {
     "name": "stdout",
     "output_type": "stream",
     "text": [
      "linear model of Tone Score for meme replies:\n",
      "The statistical significance of the replies is:\n",
      "R-squared: 0.040267\n",
      "p-value: 0.088706\n",
      "standard error: 0.172149\n",
      "intercept: 43.374434\n",
      "slope: -0.297122\n",
      "=====================================================================================================\n",
      "HS for replies:\n",
      "The statistical significance of the replies is:\n",
      "R-squared: 0.003078\n",
      "p-value: 0.641077\n",
      "standard error: 0.000157\n",
      "intercept: 0.059449\n",
      "slope: 0.000073\n",
      "=====================================================================================================\n",
      "OL for replies:\n",
      "The statistical significance of the replies is:\n",
      "R-squared: 0.006155\n",
      "p-value: 0.509426\n",
      "standard error: 0.000542\n",
      "intercept: 0.383845\n",
      "slope: -0.000359\n"
     ]
    }
   ],
   "source": [
    "# print the linear model summary for meme replies\n",
    "print(\"linear model of Tone Score for meme replies:\")\n",
    "linear_Tone = linear_model_status(df_2022[df_2022['source']=='meme'], 'Tone')\n",
    "print(\"=====================================================================================================\")\n",
    "print(\"HS for replies:\")\n",
    "linear_hs = linear_model_status(df_2022[df_2022['source']=='meme'], 'HS')\n",
    "print(\"=====================================================================================================\")\n",
    "print(\"OL for replies:\")\n",
    "linear_OS = linear_model_status(df_2022[df_2022['source']=='meme'], 'OL')"
   ]
  },
  {
   "cell_type": "code",
   "execution_count": 123,
   "metadata": {},
   "outputs": [
    {
     "name": "stdout",
     "output_type": "stream",
     "text": [
      "linear model of Negtive for meme replies:\n",
      "The statistical significance of the replies is:\n",
      "R-squared: 0.052757\n",
      "p-value: 0.050605\n",
      "standard error: 0.048019\n",
      "intercept: -0.876914\n",
      "slope: 0.095489\n",
      "=====================================================================================================\n",
      "linear model of Anxiety for meme replies:\n",
      "The statistical significance of the replies is:\n",
      "R-squared: 0.021961\n",
      "p-value: 0.210856\n",
      "standard error: 0.002816\n",
      "intercept: 0.031641\n",
      "slope: 0.003555\n"
     ]
    }
   ],
   "source": [
    "print(\"linear model of Negtive for meme replies:\")\n",
    "linear_neg = linear_model_status(df_2022[df_2022['source']=='meme'], 'emo_neg')\n",
    "print(\"=====================================================================================================\")\n",
    "print(\"linear model of Anxiety for meme replies:\")\n",
    "linear_anx = linear_model_status(df_2022[df_2022['source']=='meme'], 'emo_anx')"
   ]
  },
  {
   "cell_type": "code",
   "execution_count": 124,
   "metadata": {},
   "outputs": [
    {
     "name": "stdout",
     "output_type": "stream",
     "text": [
      "linear model of Anger for meme replies:\n",
      "The statistical significance of the replies is:\n",
      "R-squared: 0.019473\n",
      "p-value: 0.239006\n",
      "standard error: 0.000964\n",
      "intercept: 0.076942\n",
      "slope: -0.001145\n",
      "=====================================================================================================\n",
      "linear model of Sadness for meme replies:\n",
      "The statistical significance of the replies is:\n",
      "R-squared: 0.015270\n",
      "p-value: 0.297606\n",
      "standard error: 0.001042\n",
      "intercept: 0.078227\n",
      "slope: -0.001094\n",
      "=====================================================================================================\n",
      "linear model of Swear for meme replies:\n",
      "The statistical significance of the replies is:\n",
      "R-squared: 0.020192\n",
      "p-value: 0.230432\n",
      "standard error: 0.009732\n",
      "intercept: 0.992933\n",
      "slope: -0.011772\n"
     ]
    }
   ],
   "source": [
    "print(\"linear model of Anger for meme replies:\")   \n",
    "linear_anger = linear_model_status(df_2022[df_2022['source']=='meme'], 'emo_anger')\n",
    "print(\"=====================================================================================================\")\n",
    "print(\"linear model of Sadness for meme replies:\")\n",
    "linear_sad = linear_model_status(df_2022[df_2022['source']=='meme'], 'emo_sad')\n",
    "print(\"=====================================================================================================\")\n",
    "print(\"linear model of Swear for meme replies:\")\n",
    "linear_swear = linear_model_status(df_2022[df_2022['source']=='meme'], 'swear')\n"
   ]
  },
  {
   "cell_type": "markdown",
   "metadata": {},
   "source": []
  },
  {
   "cell_type": "code",
   "execution_count": 7,
   "metadata": {},
   "outputs": [],
   "source": [
    "df_meme = df[df['source']=='meme']\n",
    "# df_meme_2020 = df_2020[df_2020['source']=='meme']\n",
    "# df_meme_2021 = df_2021[df_2021['source']=='meme']\n",
    "# df_meme_2022 = df_2022[df_2022['source']=='meme']\n",
    "\n",
    "# df_tweet = df[df['source']=='tweet']\n",
    "# df_tweet_2020 = df_2020[df_2020['source']=='tweet']\n",
    "# df_tweet_2021 = df_2021[df_2021['source']=='tweet']\n",
    "# df_tweet_2022 = df_2022[df_2022['source']=='tweet']\n",
    "\n"
   ]
  },
  {
   "cell_type": "code",
   "execution_count": 23,
   "metadata": {},
   "outputs": [],
   "source": [
    "# save all scores means in a dateframe and set the date as index\n",
    "# remove id column\n",
    "df_meme = df_meme.drop(columns=['id'])\n",
    "df_meme = df_meme.groupby('month').mean()\n",
    "df_meme.index = pd.to_datetime(df_meme.index)\n",
    "\n",
    "# df_tweet = df_tweet.drop(columns=['id'])\n",
    "# df_tweet = df_tweet.groupby('month').mean()\n",
    "# df_tweet.index = pd.to_datetime(df_tweet.index)\n",
    "\n",
    "# df_meme_2020 = df_meme_2020.drop(columns=['id'])\n",
    "# df_meme_2020 = df_meme_2020.groupby('month').mean()\n",
    "# df_meme_2020.index = pd.to_datetime(df_meme_2020.index)\n",
    "\n",
    "# df_meme_2021 = df_meme_2021.drop(columns=['id'])\n",
    "# df_meme_2021 = df_meme_2021.groupby('month').mean()\n",
    "# df_meme_2021.index = pd.to_datetime(df_meme_2021.index)\n",
    "\n",
    "# df_meme_2022 = df_meme_2022.drop(columns=['id'])\n",
    "# df_meme_2022 = df_meme_2022.groupby('month').mean()\n",
    "# df_meme_2022.index = pd.to_datetime(df_meme_2022.index)\n"
   ]
  },
  {
   "cell_type": "code",
   "execution_count": 24,
   "metadata": {},
   "outputs": [
    {
     "data": {
      "text/html": [
       "<table class=\"simpletable\">\n",
       "<tr>\n",
       "        <td>Model:</td>               <td>OLS</td>         <td>Adj. R-squared:</td>     <td>0.084</td> \n",
       "</tr>\n",
       "<tr>\n",
       "  <td>Dependent Variable:</td>         <td>y</td>               <td>AIC:</td>         <td>473.3911</td>\n",
       "</tr>\n",
       "<tr>\n",
       "         <td>Date:</td>        <td>2022-11-14 10:30</td>        <td>BIC:</td>         <td>486.8596</td>\n",
       "</tr>\n",
       "<tr>\n",
       "   <td>No. Observations:</td>         <td>33</td>          <td>Log-Likelihood:</td>    <td>-227.70</td>\n",
       "</tr>\n",
       "<tr>\n",
       "       <td>Df Model:</td>              <td>8</td>           <td>F-statistic:</td>       <td>1.368</td> \n",
       "</tr>\n",
       "<tr>\n",
       "     <td>Df Residuals:</td>           <td>24</td>        <td>Prob (F-statistic):</td>   <td>0.260</td> \n",
       "</tr>\n",
       "<tr>\n",
       "      <td>R-squared:</td>            <td>0.313</td>            <td>Scale:</td>         <td>79245.</td> \n",
       "</tr>\n",
       "</table>\n",
       "<table class=\"simpletable\">\n",
       "<tr>\n",
       "      <td></td>          <th>Coef.</th>    <th>Std.Err.</th>      <th>t</th>      <th>P>|t|</th>    <th>[0.025</th>       <th>0.975]</th>   \n",
       "</tr>\n",
       "<tr>\n",
       "  <th>const</th>     <td>2458691.1247</td> <td>1241.9409</td> <td>1979.7167</td> <td>0.0000</td> <td>2456127.8847</td> <td>2461254.3647</td>\n",
       "</tr>\n",
       "<tr>\n",
       "  <th>Tone</th>         <td>10.3274</td>    <td>11.9340</td>   <td>0.8654</td>   <td>0.3954</td>   <td>-14.3031</td>      <td>34.9579</td>  \n",
       "</tr>\n",
       "<tr>\n",
       "  <th>HS</th>          <td>-841.7799</td>  <td>4684.8412</td>  <td>-0.1797</td>  <td>0.8589</td>  <td>-10510.8169</td>   <td>8827.2570</td> \n",
       "</tr>\n",
       "<tr>\n",
       "  <th>OL</th>          <td>1260.2862</td>  <td>2750.1171</td>  <td>0.4583</td>   <td>0.6509</td>  <td>-4415.6764</td>    <td>6936.2489</td> \n",
       "</tr>\n",
       "<tr>\n",
       "  <th>emo_neg</th>      <td>98.3937</td>   <td>103.1803</td>   <td>0.9536</td>   <td>0.3498</td>   <td>-114.5599</td>    <td>311.3473</td>  \n",
       "</tr>\n",
       "<tr>\n",
       "  <th>emo_anx</th>     <td>303.6081</td>   <td>348.5832</td>   <td>0.8710</td>   <td>0.3924</td>   <td>-415.8323</td>    <td>1023.0486</td> \n",
       "</tr>\n",
       "<tr>\n",
       "  <th>emo_anger</th>   <td>-394.4853</td>  <td>234.0854</td>   <td>-1.6852</td>  <td>0.1049</td>   <td>-877.6138</td>     <td>88.6431</td>  \n",
       "</tr>\n",
       "<tr>\n",
       "  <th>emo_sad</th>     <td>-344.5587</td>  <td>592.0200</td>   <td>-0.5820</td>  <td>0.5660</td>  <td>-1566.4278</td>    <td>877.3105</td>  \n",
       "</tr>\n",
       "<tr>\n",
       "  <th>swear</th>       <td>-321.2405</td>  <td>166.7549</td>   <td>-1.9264</td>  <td>0.0660</td>   <td>-665.4056</td>     <td>22.9246</td>  \n",
       "</tr>\n",
       "</table>\n",
       "<table class=\"simpletable\">\n",
       "<tr>\n",
       "     <td>Omnibus:</td>     <td>2.860</td>  <td>Durbin-Watson:</td>   <td>0.713</td>\n",
       "</tr>\n",
       "<tr>\n",
       "  <td>Prob(Omnibus):</td>  <td>0.239</td> <td>Jarque-Bera (JB):</td> <td>1.850</td>\n",
       "</tr>\n",
       "<tr>\n",
       "       <td>Skew:</td>     <td>-0.359</td>     <td>Prob(JB):</td>     <td>0.396</td>\n",
       "</tr>\n",
       "<tr>\n",
       "     <td>Kurtosis:</td>    <td>2.089</td>  <td>Condition No.:</td>   <td>2943</td> \n",
       "</tr>\n",
       "</table>"
      ],
      "text/plain": [
       "<class 'statsmodels.iolib.summary2.Summary'>\n",
       "\"\"\"\n",
       "                      Results: Ordinary least squares\n",
       "===========================================================================\n",
       "Model:                  OLS                 Adj. R-squared:        0.084   \n",
       "Dependent Variable:     y                   AIC:                   473.3911\n",
       "Date:                   2022-11-14 10:30    BIC:                   486.8596\n",
       "No. Observations:       33                  Log-Likelihood:        -227.70 \n",
       "Df Model:               8                   F-statistic:           1.368   \n",
       "Df Residuals:           24                  Prob (F-statistic):    0.260   \n",
       "R-squared:              0.313               Scale:                 79245.  \n",
       "---------------------------------------------------------------------------\n",
       "             Coef.      Std.Err.     t     P>|t|     [0.025       0.975]   \n",
       "---------------------------------------------------------------------------\n",
       "const     2458691.1247 1241.9409 1979.7167 0.0000 2456127.8847 2461254.3647\n",
       "Tone           10.3274   11.9340    0.8654 0.3954     -14.3031      34.9579\n",
       "HS           -841.7799 4684.8412   -0.1797 0.8589  -10510.8169    8827.2570\n",
       "OL           1260.2862 2750.1171    0.4583 0.6509   -4415.6764    6936.2489\n",
       "emo_neg        98.3937  103.1803    0.9536 0.3498    -114.5599     311.3473\n",
       "emo_anx       303.6081  348.5832    0.8710 0.3924    -415.8323    1023.0486\n",
       "emo_anger    -394.4853  234.0854   -1.6852 0.1049    -877.6138      88.6431\n",
       "emo_sad      -344.5587  592.0200   -0.5820 0.5660   -1566.4278     877.3105\n",
       "swear        -321.2405  166.7549   -1.9264 0.0660    -665.4056      22.9246\n",
       "---------------------------------------------------------------------------\n",
       "Omnibus:                 2.860            Durbin-Watson:              0.713\n",
       "Prob(Omnibus):           0.239            Jarque-Bera (JB):           1.850\n",
       "Skew:                    -0.359           Prob(JB):                   0.396\n",
       "Kurtosis:                2.089            Condition No.:              2943 \n",
       "===========================================================================\n",
       "* The condition number is large (3e+03). This might indicate\n",
       "strong multicollinearity or other numerical problems.\n",
       "\"\"\""
      ]
     },
     "execution_count": 24,
     "metadata": {},
     "output_type": "execute_result"
    }
   ],
   "source": [
    "res_meme = OSL_result_overall(df_meme)\n",
    "res_meme.summary2()"
   ]
  },
  {
   "cell_type": "markdown",
   "metadata": {},
   "source": [
    "For 2020"
   ]
  },
  {
   "cell_type": "code",
   "execution_count": 64,
   "metadata": {},
   "outputs": [
    {
     "data": {
      "text/plain": [
       "const        2.878513e-09\n",
       "Tone         1.953967e-01\n",
       "HS           8.264156e-01\n",
       "OL           3.442605e-01\n",
       "emo_neg      2.064094e-01\n",
       "emo_anx      5.827254e-01\n",
       "emo_anger    6.163132e-01\n",
       "emo_sad      4.309655e-01\n",
       "swear        5.390133e-01\n",
       "dtype: float64"
      ]
     },
     "execution_count": 64,
     "metadata": {},
     "output_type": "execute_result"
    }
   ],
   "source": [
    "res_meme_2020 = OSL_result_overall(df_meme_2020)\n",
    "res_meme_2020.pvalues"
   ]
  },
  {
   "cell_type": "markdown",
   "metadata": {},
   "source": [
    "For 2021"
   ]
  },
  {
   "cell_type": "code",
   "execution_count": 65,
   "metadata": {},
   "outputs": [
    {
     "data": {
      "text/plain": [
       "const        2.504087e-10\n",
       "Tone         1.362109e-01\n",
       "HS           8.478523e-01\n",
       "OL           2.585321e-01\n",
       "emo_neg      1.661209e-01\n",
       "emo_anx      5.176377e-01\n",
       "emo_anger    3.303306e-01\n",
       "emo_sad      9.576881e-01\n",
       "swear        5.686877e-01\n",
       "dtype: float64"
      ]
     },
     "execution_count": 65,
     "metadata": {},
     "output_type": "execute_result"
    }
   ],
   "source": [
    "res_meme_2021 = OSL_result_overall(df_meme_2021)\n",
    "res_meme_2021.pvalues"
   ]
  },
  {
   "cell_type": "markdown",
   "metadata": {},
   "source": [
    "For 2022"
   ]
  },
  {
   "cell_type": "code",
   "execution_count": 68,
   "metadata": {},
   "outputs": [
    {
     "data": {
      "text/html": [
       "<div>\n",
       "<style scoped>\n",
       "    .dataframe tbody tr th:only-of-type {\n",
       "        vertical-align: middle;\n",
       "    }\n",
       "\n",
       "    .dataframe tbody tr th {\n",
       "        vertical-align: top;\n",
       "    }\n",
       "\n",
       "    .dataframe thead th {\n",
       "        text-align: right;\n",
       "    }\n",
       "</style>\n",
       "<table border=\"1\" class=\"dataframe\">\n",
       "  <thead>\n",
       "    <tr style=\"text-align: right;\">\n",
       "      <th></th>\n",
       "      <th>Tone</th>\n",
       "      <th>Clout</th>\n",
       "      <th>WPS</th>\n",
       "      <th>BigWords</th>\n",
       "      <th>emotion</th>\n",
       "      <th>emo_neg</th>\n",
       "      <th>emo_pos</th>\n",
       "      <th>emo_anx</th>\n",
       "      <th>emo_anger</th>\n",
       "      <th>emo_sad</th>\n",
       "      <th>swear</th>\n",
       "      <th>HS</th>\n",
       "      <th>OL</th>\n",
       "    </tr>\n",
       "    <tr>\n",
       "      <th>month</th>\n",
       "      <th></th>\n",
       "      <th></th>\n",
       "      <th></th>\n",
       "      <th></th>\n",
       "      <th></th>\n",
       "      <th></th>\n",
       "      <th></th>\n",
       "      <th></th>\n",
       "      <th></th>\n",
       "      <th></th>\n",
       "      <th></th>\n",
       "      <th></th>\n",
       "      <th></th>\n",
       "    </tr>\n",
       "  </thead>\n",
       "  <tbody>\n",
       "    <tr>\n",
       "      <th>2022-01-01</th>\n",
       "      <td>38.045469</td>\n",
       "      <td>62.267969</td>\n",
       "      <td>13.089375</td>\n",
       "      <td>24.941719</td>\n",
       "      <td>4.651250</td>\n",
       "      <td>1.682969</td>\n",
       "      <td>2.387031</td>\n",
       "      <td>0.077656</td>\n",
       "      <td>0.392656</td>\n",
       "      <td>0.179531</td>\n",
       "      <td>0.328437</td>\n",
       "      <td>0.057183</td>\n",
       "      <td>0.378575</td>\n",
       "    </tr>\n",
       "    <tr>\n",
       "      <th>2022-02-01</th>\n",
       "      <td>42.213333</td>\n",
       "      <td>62.937778</td>\n",
       "      <td>10.074444</td>\n",
       "      <td>25.017778</td>\n",
       "      <td>0.866667</td>\n",
       "      <td>0.866667</td>\n",
       "      <td>0.000000</td>\n",
       "      <td>0.000000</td>\n",
       "      <td>0.000000</td>\n",
       "      <td>0.000000</td>\n",
       "      <td>1.010000</td>\n",
       "      <td>0.055574</td>\n",
       "      <td>0.361230</td>\n",
       "    </tr>\n",
       "    <tr>\n",
       "      <th>2022-03-01</th>\n",
       "      <td>26.863043</td>\n",
       "      <td>64.520373</td>\n",
       "      <td>12.211739</td>\n",
       "      <td>21.503789</td>\n",
       "      <td>2.219876</td>\n",
       "      <td>1.560497</td>\n",
       "      <td>0.444658</td>\n",
       "      <td>0.135280</td>\n",
       "      <td>0.012422</td>\n",
       "      <td>0.043913</td>\n",
       "      <td>0.456335</td>\n",
       "      <td>0.064858</td>\n",
       "      <td>0.395275</td>\n",
       "    </tr>\n",
       "    <tr>\n",
       "      <th>2022-04-01</th>\n",
       "      <td>28.060000</td>\n",
       "      <td>63.137391</td>\n",
       "      <td>11.280435</td>\n",
       "      <td>22.516087</td>\n",
       "      <td>4.243913</td>\n",
       "      <td>2.260870</td>\n",
       "      <td>1.548261</td>\n",
       "      <td>0.000000</td>\n",
       "      <td>0.106087</td>\n",
       "      <td>0.395217</td>\n",
       "      <td>0.177391</td>\n",
       "      <td>0.059944</td>\n",
       "      <td>0.368599</td>\n",
       "    </tr>\n",
       "    <tr>\n",
       "      <th>2022-05-01</th>\n",
       "      <td>30.423077</td>\n",
       "      <td>52.853566</td>\n",
       "      <td>14.228252</td>\n",
       "      <td>29.445455</td>\n",
       "      <td>1.277273</td>\n",
       "      <td>0.925385</td>\n",
       "      <td>0.351818</td>\n",
       "      <td>0.259720</td>\n",
       "      <td>0.145594</td>\n",
       "      <td>0.000000</td>\n",
       "      <td>0.735175</td>\n",
       "      <td>0.069196</td>\n",
       "      <td>0.379040</td>\n",
       "    </tr>\n",
       "    <tr>\n",
       "      <th>2022-06-01</th>\n",
       "      <td>50.000000</td>\n",
       "      <td>62.145000</td>\n",
       "      <td>13.000000</td>\n",
       "      <td>19.050000</td>\n",
       "      <td>5.655000</td>\n",
       "      <td>3.570000</td>\n",
       "      <td>2.085000</td>\n",
       "      <td>0.000000</td>\n",
       "      <td>0.000000</td>\n",
       "      <td>0.000000</td>\n",
       "      <td>0.000000</td>\n",
       "      <td>0.143045</td>\n",
       "      <td>0.272243</td>\n",
       "    </tr>\n",
       "    <tr>\n",
       "      <th>2022-07-01</th>\n",
       "      <td>20.833182</td>\n",
       "      <td>49.388636</td>\n",
       "      <td>12.502500</td>\n",
       "      <td>24.959773</td>\n",
       "      <td>2.236136</td>\n",
       "      <td>1.742955</td>\n",
       "      <td>0.428182</td>\n",
       "      <td>0.342273</td>\n",
       "      <td>0.087500</td>\n",
       "      <td>0.000000</td>\n",
       "      <td>0.289318</td>\n",
       "      <td>0.050839</td>\n",
       "      <td>0.365294</td>\n",
       "    </tr>\n",
       "    <tr>\n",
       "      <th>2022-08-01</th>\n",
       "      <td>21.564839</td>\n",
       "      <td>57.008387</td>\n",
       "      <td>12.540323</td>\n",
       "      <td>38.260000</td>\n",
       "      <td>4.384839</td>\n",
       "      <td>4.211613</td>\n",
       "      <td>0.173226</td>\n",
       "      <td>0.268710</td>\n",
       "      <td>0.000000</td>\n",
       "      <td>0.000000</td>\n",
       "      <td>0.445484</td>\n",
       "      <td>0.075664</td>\n",
       "      <td>0.352046</td>\n",
       "    </tr>\n",
       "    <tr>\n",
       "      <th>2022-09-01</th>\n",
       "      <td>32.530000</td>\n",
       "      <td>48.465000</td>\n",
       "      <td>10.750000</td>\n",
       "      <td>19.645000</td>\n",
       "      <td>1.390000</td>\n",
       "      <td>1.390000</td>\n",
       "      <td>0.000000</td>\n",
       "      <td>0.000000</td>\n",
       "      <td>0.000000</td>\n",
       "      <td>0.000000</td>\n",
       "      <td>0.000000</td>\n",
       "      <td>0.046498</td>\n",
       "      <td>0.334769</td>\n",
       "    </tr>\n",
       "  </tbody>\n",
       "</table>\n",
       "</div>"
      ],
      "text/plain": [
       "                 Tone      Clout        WPS   BigWords   emotion   emo_neg  \\\n",
       "month                                                                        \n",
       "2022-01-01  38.045469  62.267969  13.089375  24.941719  4.651250  1.682969   \n",
       "2022-02-01  42.213333  62.937778  10.074444  25.017778  0.866667  0.866667   \n",
       "2022-03-01  26.863043  64.520373  12.211739  21.503789  2.219876  1.560497   \n",
       "2022-04-01  28.060000  63.137391  11.280435  22.516087  4.243913  2.260870   \n",
       "2022-05-01  30.423077  52.853566  14.228252  29.445455  1.277273  0.925385   \n",
       "2022-06-01  50.000000  62.145000  13.000000  19.050000  5.655000  3.570000   \n",
       "2022-07-01  20.833182  49.388636  12.502500  24.959773  2.236136  1.742955   \n",
       "2022-08-01  21.564839  57.008387  12.540323  38.260000  4.384839  4.211613   \n",
       "2022-09-01  32.530000  48.465000  10.750000  19.645000  1.390000  1.390000   \n",
       "\n",
       "             emo_pos   emo_anx  emo_anger   emo_sad     swear        HS  \\\n",
       "month                                                                     \n",
       "2022-01-01  2.387031  0.077656   0.392656  0.179531  0.328437  0.057183   \n",
       "2022-02-01  0.000000  0.000000   0.000000  0.000000  1.010000  0.055574   \n",
       "2022-03-01  0.444658  0.135280   0.012422  0.043913  0.456335  0.064858   \n",
       "2022-04-01  1.548261  0.000000   0.106087  0.395217  0.177391  0.059944   \n",
       "2022-05-01  0.351818  0.259720   0.145594  0.000000  0.735175  0.069196   \n",
       "2022-06-01  2.085000  0.000000   0.000000  0.000000  0.000000  0.143045   \n",
       "2022-07-01  0.428182  0.342273   0.087500  0.000000  0.289318  0.050839   \n",
       "2022-08-01  0.173226  0.268710   0.000000  0.000000  0.445484  0.075664   \n",
       "2022-09-01  0.000000  0.000000   0.000000  0.000000  0.000000  0.046498   \n",
       "\n",
       "                  OL  \n",
       "month                 \n",
       "2022-01-01  0.378575  \n",
       "2022-02-01  0.361230  \n",
       "2022-03-01  0.395275  \n",
       "2022-04-01  0.368599  \n",
       "2022-05-01  0.379040  \n",
       "2022-06-01  0.272243  \n",
       "2022-07-01  0.365294  \n",
       "2022-08-01  0.352046  \n",
       "2022-09-01  0.334769  "
      ]
     },
     "execution_count": 68,
     "metadata": {},
     "output_type": "execute_result"
    }
   ],
   "source": [
    "df_meme_2022"
   ]
  },
  {
   "cell_type": "code",
   "execution_count": 70,
   "metadata": {},
   "outputs": [
    {
     "name": "stderr",
     "output_type": "stream",
     "text": [
      "/Users/keyanguo/tensorflow-test/env/lib/python3.8/site-packages/scipy/stats/_stats_py.py:1477: UserWarning: kurtosistest only valid for n>=20 ... continuing anyway, n=9\n",
      "  warnings.warn(\"kurtosistest only valid for n>=20 ... continuing \"\n",
      "/Users/keyanguo/tensorflow-test/env/lib/python3.8/site-packages/statsmodels/regression/linear_model.py:1671: RuntimeWarning: divide by zero encountered in double_scalars\n",
      "  return np.dot(wresid, wresid) / self.df_resid\n",
      "/Users/keyanguo/tensorflow-test/env/lib/python3.8/site-packages/statsmodels/regression/linear_model.py:1749: RuntimeWarning: divide by zero encountered in true_divide\n",
      "  return 1 - (np.divide(self.nobs - self.k_constant, self.df_resid)\n",
      "/Users/keyanguo/tensorflow-test/env/lib/python3.8/site-packages/statsmodels/regression/linear_model.py:1749: RuntimeWarning: invalid value encountered in double_scalars\n",
      "  return 1 - (np.divide(self.nobs - self.k_constant, self.df_resid)\n"
     ]
    },
    {
     "data": {
      "text/html": [
       "<table class=\"simpletable\">\n",
       "<tr>\n",
       "        <td>Model:</td>               <td>OLS</td>         <td>Adj. R-squared:</td>      <td>nan</td>   \n",
       "</tr>\n",
       "<tr>\n",
       "  <td>Dependent Variable:</td>         <td>y</td>               <td>AIC:</td>         <td>-285.3099</td>\n",
       "</tr>\n",
       "<tr>\n",
       "         <td>Date:</td>        <td>2022-11-10 19:18</td>        <td>BIC:</td>         <td>-283.5349</td>\n",
       "</tr>\n",
       "<tr>\n",
       "   <td>No. Observations:</td>          <td>9</td>          <td>Log-Likelihood:</td>    <td>151.65</td>  \n",
       "</tr>\n",
       "<tr>\n",
       "       <td>Df Model:</td>              <td>8</td>           <td>F-statistic:</td>        <td>nan</td>   \n",
       "</tr>\n",
       "<tr>\n",
       "     <td>Df Residuals:</td>            <td>0</td>        <td>Prob (F-statistic):</td>    <td>nan</td>   \n",
       "</tr>\n",
       "<tr>\n",
       "      <td>R-squared:</td>            <td>1.000</td>            <td>Scale:</td>           <td>inf</td>   \n",
       "</tr>\n",
       "</table>\n",
       "<table class=\"simpletable\">\n",
       "<tr>\n",
       "      <td></td>          <th>Coef.</th>    <th>Std.Err.</th>    <th>t</th>    <th>P>|t|</th> <th>[0.025</th> <th>0.975]</th>\n",
       "</tr>\n",
       "<tr>\n",
       "  <th>const</th>     <td>2462872.6292</td>    <td>inf</td>   <td>0.0000</td>   <td>nan</td>    <td>nan</td>    <td>nan</td> \n",
       "</tr>\n",
       "<tr>\n",
       "  <th>Tone</th>        <td>-35.8961</td>      <td>inf</td>   <td>-0.0000</td>  <td>nan</td>    <td>nan</td>    <td>nan</td> \n",
       "</tr>\n",
       "<tr>\n",
       "  <th>HS</th>          <td>3204.8095</td>     <td>inf</td>   <td>0.0000</td>   <td>nan</td>    <td>nan</td>    <td>nan</td> \n",
       "</tr>\n",
       "<tr>\n",
       "  <th>OL</th>         <td>-5803.8868</td>     <td>inf</td>   <td>-0.0000</td>  <td>nan</td>    <td>nan</td>    <td>nan</td> \n",
       "</tr>\n",
       "<tr>\n",
       "  <th>emo_neg</th>     <td>-62.9389</td>      <td>inf</td>   <td>-0.0000</td>  <td>nan</td>    <td>nan</td>    <td>nan</td> \n",
       "</tr>\n",
       "<tr>\n",
       "  <th>emo_anx</th>    <td>-1266.8095</td>     <td>inf</td>   <td>-0.0000</td>  <td>nan</td>    <td>nan</td>    <td>nan</td> \n",
       "</tr>\n",
       "<tr>\n",
       "  <th>emo_anger</th>   <td>824.2694</td>      <td>inf</td>   <td>0.0000</td>   <td>nan</td>    <td>nan</td>    <td>nan</td> \n",
       "</tr>\n",
       "<tr>\n",
       "  <th>emo_sad</th>     <td>-588.8657</td>     <td>inf</td>   <td>-0.0000</td>  <td>nan</td>    <td>nan</td>    <td>nan</td> \n",
       "</tr>\n",
       "<tr>\n",
       "  <th>swear</th>       <td>224.8975</td>      <td>inf</td>   <td>0.0000</td>   <td>nan</td>    <td>nan</td>    <td>nan</td> \n",
       "</tr>\n",
       "</table>\n",
       "<table class=\"simpletable\">\n",
       "<tr>\n",
       "     <td>Omnibus:</td>    <td>7.593</td>  <td>Durbin-Watson:</td>   <td>0.018</td>\n",
       "</tr>\n",
       "<tr>\n",
       "  <td>Prob(Omnibus):</td> <td>0.022</td> <td>Jarque-Bera (JB):</td> <td>2.561</td>\n",
       "</tr>\n",
       "<tr>\n",
       "       <td>Skew:</td>     <td>1.178</td>     <td>Prob(JB):</td>     <td>0.278</td>\n",
       "</tr>\n",
       "<tr>\n",
       "     <td>Kurtosis:</td>   <td>4.132</td>  <td>Condition No.:</td>   <td>9683</td> \n",
       "</tr>\n",
       "</table>"
      ],
      "text/plain": [
       "<class 'statsmodels.iolib.summary2.Summary'>\n",
       "\"\"\"\n",
       "                 Results: Ordinary least squares\n",
       "==================================================================\n",
       "Model:              OLS              Adj. R-squared:     nan      \n",
       "Dependent Variable: y                AIC:                -285.3099\n",
       "Date:               2022-11-10 19:18 BIC:                -283.5349\n",
       "No. Observations:   9                Log-Likelihood:     151.65   \n",
       "Df Model:           8                F-statistic:        nan      \n",
       "Df Residuals:       0                Prob (F-statistic): nan      \n",
       "R-squared:          1.000            Scale:              inf      \n",
       "-------------------------------------------------------------------\n",
       "                Coef.      Std.Err.     t     P>|t|  [0.025  0.975]\n",
       "-------------------------------------------------------------------\n",
       "const        2462872.6292       inf   0.0000    nan     nan     nan\n",
       "Tone             -35.8961       inf  -0.0000    nan     nan     nan\n",
       "HS              3204.8095       inf   0.0000    nan     nan     nan\n",
       "OL             -5803.8868       inf  -0.0000    nan     nan     nan\n",
       "emo_neg          -62.9389       inf  -0.0000    nan     nan     nan\n",
       "emo_anx        -1266.8095       inf  -0.0000    nan     nan     nan\n",
       "emo_anger        824.2694       inf   0.0000    nan     nan     nan\n",
       "emo_sad         -588.8657       inf  -0.0000    nan     nan     nan\n",
       "swear            224.8975       inf   0.0000    nan     nan     nan\n",
       "------------------------------------------------------------------\n",
       "Omnibus:               7.593        Durbin-Watson:           0.018\n",
       "Prob(Omnibus):         0.022        Jarque-Bera (JB):        2.561\n",
       "Skew:                  1.178        Prob(JB):                0.278\n",
       "Kurtosis:              4.132        Condition No.:           9683 \n",
       "==================================================================\n",
       "* The condition number is large (1e+04). This might indicate\n",
       "strong multicollinearity or other numerical problems.\n",
       "\"\"\""
      ]
     },
     "execution_count": 70,
     "metadata": {},
     "output_type": "execute_result"
    }
   ],
   "source": [
    "res_meme_2022 = OSL_result_overall(df_meme_2022)\n",
    "res_meme_2022.summary2()"
   ]
  },
  {
   "cell_type": "code",
   "execution_count": 71,
   "metadata": {},
   "outputs": [
    {
     "name": "stdout",
     "output_type": "stream",
     "text": [
      "const      1.251714e-112\n",
      "emo_neg     2.194415e-01\n",
      "dtype: float64\n",
      "const      1.200630e-40\n",
      "emo_neg    4.070591e-01\n",
      "dtype: float64\n",
      "const      2.455413e-41\n",
      "emo_neg    9.490441e-01\n",
      "dtype: float64\n",
      "                            OLS Regression Results                            \n",
      "==============================================================================\n",
      "Dep. Variable:                      y   R-squared:                       0.174\n",
      "Model:                            OLS   Adj. R-squared:                  0.056\n",
      "Method:                 Least Squares   F-statistic:                     1.477\n",
      "Date:                Thu, 10 Nov 2022   Prob (F-statistic):              0.264\n",
      "Time:                        19:19:47   Log-Likelihood:                -51.157\n",
      "No. Observations:                   9   AIC:                             106.3\n",
      "Df Residuals:                       7   BIC:                             106.7\n",
      "Df Model:                           1                                         \n",
      "Covariance Type:            nonrobust                                         \n",
      "==============================================================================\n",
      "                 coef    std err          t      P>|t|      [0.025      0.975]\n",
      "------------------------------------------------------------------------------\n",
      "const        2.46e+06     56.937   4.32e+04      0.000    2.46e+06    2.46e+06\n",
      "emo_neg       30.1368     24.800      1.215      0.264     -28.505      88.779\n",
      "==============================================================================\n",
      "Omnibus:                        0.801   Durbin-Watson:                   0.727\n",
      "Prob(Omnibus):                  0.670   Jarque-Bera (JB):                0.403\n",
      "Skew:                           0.466   Prob(JB):                        0.818\n",
      "Kurtosis:                       2.546   Cond. No.                         5.60\n",
      "==============================================================================\n",
      "\n",
      "Notes:\n",
      "[1] Standard Errors assume that the covariance matrix of the errors is correctly specified.\n"
     ]
    },
    {
     "name": "stderr",
     "output_type": "stream",
     "text": [
      "/Users/keyanguo/tensorflow-test/env/lib/python3.8/site-packages/scipy/stats/_stats_py.py:1477: UserWarning: kurtosistest only valid for n>=20 ... continuing anyway, n=9\n",
      "  warnings.warn(\"kurtosistest only valid for n>=20 ... continuing \"\n"
     ]
    }
   ],
   "source": [
    "# for negative emotion\n",
    "res_meme_neg = OSL_result(df_meme, 'emo_neg')\n",
    "print(res_meme_neg.pvalues)\n",
    "\n",
    "res_meme_neg_2020 = OSL_result(df_meme_2020, 'emo_neg')\n",
    "print(res_meme_neg_2020.pvalues)\n",
    "\n",
    "res_meme_neg_2021 = OSL_result(df_meme_2021, 'emo_neg')\n",
    "print(res_meme_neg_2021.pvalues)\n",
    "\n",
    "res_meme_neg_2022 = OSL_result(df_meme_2022, 'emo_neg')\n",
    "print(res_meme_neg_2022.summary())"
   ]
  },
  {
   "cell_type": "code",
   "execution_count": null,
   "metadata": {},
   "outputs": [],
   "source": [
    "# change df_meme column name to 'meme' + column name\n",
    "df_meme.columns = ['meme_' + str(col) for col in df_meme.columns]"
   ]
  },
  {
   "cell_type": "code",
   "execution_count": 37,
   "metadata": {},
   "outputs": [],
   "source": [
    "df_tweet.columns = ['tweet_' + str(col) for col in df_tweet.columns]"
   ]
  },
  {
   "cell_type": "code",
   "execution_count": 53,
   "metadata": {},
   "outputs": [],
   "source": [
    "# join meme and tweet dataframes\n",
    "df_meme_tweet = df_meme.join(df_tweet, how='outer')"
   ]
  },
  {
   "cell_type": "code",
   "execution_count": 54,
   "metadata": {},
   "outputs": [
    {
     "data": {
      "text/plain": [
       "704"
      ]
     },
     "execution_count": 54,
     "metadata": {},
     "output_type": "execute_result"
    }
   ],
   "source": [
    "len(df_meme_tweet)"
   ]
  },
  {
   "cell_type": "code",
   "execution_count": 55,
   "metadata": {},
   "outputs": [
    {
     "data": {
      "text/html": [
       "<div>\n",
       "<style scoped>\n",
       "    .dataframe tbody tr th:only-of-type {\n",
       "        vertical-align: middle;\n",
       "    }\n",
       "\n",
       "    .dataframe tbody tr th {\n",
       "        vertical-align: top;\n",
       "    }\n",
       "\n",
       "    .dataframe thead th {\n",
       "        text-align: right;\n",
       "    }\n",
       "</style>\n",
       "<table border=\"1\" class=\"dataframe\">\n",
       "  <thead>\n",
       "    <tr style=\"text-align: right;\">\n",
       "      <th></th>\n",
       "      <th>meme_Tone</th>\n",
       "      <th>meme_Clout</th>\n",
       "      <th>meme_WPS</th>\n",
       "      <th>meme_BigWords</th>\n",
       "      <th>meme_emotion</th>\n",
       "      <th>meme_emo_neg</th>\n",
       "      <th>meme_emo_pos</th>\n",
       "      <th>meme_emo_anx</th>\n",
       "      <th>meme_emo_anger</th>\n",
       "      <th>meme_emo_sad</th>\n",
       "      <th>...</th>\n",
       "      <th>tweet_BigWords</th>\n",
       "      <th>tweet_emotion</th>\n",
       "      <th>tweet_emo_neg</th>\n",
       "      <th>tweet_emo_pos</th>\n",
       "      <th>tweet_emo_anx</th>\n",
       "      <th>tweet_emo_anger</th>\n",
       "      <th>tweet_emo_sad</th>\n",
       "      <th>tweet_swear</th>\n",
       "      <th>tweet_HS</th>\n",
       "      <th>tweet_OL</th>\n",
       "    </tr>\n",
       "    <tr>\n",
       "      <th>date</th>\n",
       "      <th></th>\n",
       "      <th></th>\n",
       "      <th></th>\n",
       "      <th></th>\n",
       "      <th></th>\n",
       "      <th></th>\n",
       "      <th></th>\n",
       "      <th></th>\n",
       "      <th></th>\n",
       "      <th></th>\n",
       "      <th></th>\n",
       "      <th></th>\n",
       "      <th></th>\n",
       "      <th></th>\n",
       "      <th></th>\n",
       "      <th></th>\n",
       "      <th></th>\n",
       "      <th></th>\n",
       "      <th></th>\n",
       "      <th></th>\n",
       "      <th></th>\n",
       "    </tr>\n",
       "  </thead>\n",
       "  <tbody>\n",
       "    <tr>\n",
       "      <th>2020-01-01</th>\n",
       "      <td>NaN</td>\n",
       "      <td>NaN</td>\n",
       "      <td>NaN</td>\n",
       "      <td>NaN</td>\n",
       "      <td>NaN</td>\n",
       "      <td>NaN</td>\n",
       "      <td>NaN</td>\n",
       "      <td>NaN</td>\n",
       "      <td>NaN</td>\n",
       "      <td>NaN</td>\n",
       "      <td>...</td>\n",
       "      <td>33.330000</td>\n",
       "      <td>0.00</td>\n",
       "      <td>0.00</td>\n",
       "      <td>0.00</td>\n",
       "      <td>0.0</td>\n",
       "      <td>0.0</td>\n",
       "      <td>0.0</td>\n",
       "      <td>0.00</td>\n",
       "      <td>0.073252</td>\n",
       "      <td>0.436326</td>\n",
       "    </tr>\n",
       "    <tr>\n",
       "      <th>2020-01-02</th>\n",
       "      <td>NaN</td>\n",
       "      <td>NaN</td>\n",
       "      <td>NaN</td>\n",
       "      <td>NaN</td>\n",
       "      <td>NaN</td>\n",
       "      <td>NaN</td>\n",
       "      <td>NaN</td>\n",
       "      <td>NaN</td>\n",
       "      <td>NaN</td>\n",
       "      <td>NaN</td>\n",
       "      <td>...</td>\n",
       "      <td>40.000000</td>\n",
       "      <td>40.00</td>\n",
       "      <td>0.00</td>\n",
       "      <td>0.00</td>\n",
       "      <td>0.0</td>\n",
       "      <td>0.0</td>\n",
       "      <td>0.0</td>\n",
       "      <td>20.00</td>\n",
       "      <td>0.061482</td>\n",
       "      <td>0.928630</td>\n",
       "    </tr>\n",
       "    <tr>\n",
       "      <th>2020-01-10</th>\n",
       "      <td>NaN</td>\n",
       "      <td>NaN</td>\n",
       "      <td>NaN</td>\n",
       "      <td>NaN</td>\n",
       "      <td>NaN</td>\n",
       "      <td>NaN</td>\n",
       "      <td>NaN</td>\n",
       "      <td>NaN</td>\n",
       "      <td>NaN</td>\n",
       "      <td>NaN</td>\n",
       "      <td>...</td>\n",
       "      <td>14.760000</td>\n",
       "      <td>1.96</td>\n",
       "      <td>1.96</td>\n",
       "      <td>0.00</td>\n",
       "      <td>0.0</td>\n",
       "      <td>0.0</td>\n",
       "      <td>0.0</td>\n",
       "      <td>3.61</td>\n",
       "      <td>0.052799</td>\n",
       "      <td>0.695365</td>\n",
       "    </tr>\n",
       "    <tr>\n",
       "      <th>2020-01-18</th>\n",
       "      <td>29.9625</td>\n",
       "      <td>13.755</td>\n",
       "      <td>11.275</td>\n",
       "      <td>13.1425</td>\n",
       "      <td>1.5</td>\n",
       "      <td>1.5</td>\n",
       "      <td>0.0</td>\n",
       "      <td>0.5</td>\n",
       "      <td>0.0</td>\n",
       "      <td>0.0</td>\n",
       "      <td>...</td>\n",
       "      <td>NaN</td>\n",
       "      <td>NaN</td>\n",
       "      <td>NaN</td>\n",
       "      <td>NaN</td>\n",
       "      <td>NaN</td>\n",
       "      <td>NaN</td>\n",
       "      <td>NaN</td>\n",
       "      <td>NaN</td>\n",
       "      <td>NaN</td>\n",
       "      <td>NaN</td>\n",
       "    </tr>\n",
       "    <tr>\n",
       "      <th>2020-01-19</th>\n",
       "      <td>NaN</td>\n",
       "      <td>NaN</td>\n",
       "      <td>NaN</td>\n",
       "      <td>NaN</td>\n",
       "      <td>NaN</td>\n",
       "      <td>NaN</td>\n",
       "      <td>NaN</td>\n",
       "      <td>NaN</td>\n",
       "      <td>NaN</td>\n",
       "      <td>NaN</td>\n",
       "      <td>...</td>\n",
       "      <td>49.893333</td>\n",
       "      <td>2.15</td>\n",
       "      <td>0.00</td>\n",
       "      <td>2.15</td>\n",
       "      <td>0.0</td>\n",
       "      <td>0.0</td>\n",
       "      <td>0.0</td>\n",
       "      <td>0.00</td>\n",
       "      <td>0.038097</td>\n",
       "      <td>0.348826</td>\n",
       "    </tr>\n",
       "    <tr>\n",
       "      <th>...</th>\n",
       "      <td>...</td>\n",
       "      <td>...</td>\n",
       "      <td>...</td>\n",
       "      <td>...</td>\n",
       "      <td>...</td>\n",
       "      <td>...</td>\n",
       "      <td>...</td>\n",
       "      <td>...</td>\n",
       "      <td>...</td>\n",
       "      <td>...</td>\n",
       "      <td>...</td>\n",
       "      <td>...</td>\n",
       "      <td>...</td>\n",
       "      <td>...</td>\n",
       "      <td>...</td>\n",
       "      <td>...</td>\n",
       "      <td>...</td>\n",
       "      <td>...</td>\n",
       "      <td>...</td>\n",
       "      <td>...</td>\n",
       "      <td>...</td>\n",
       "    </tr>\n",
       "    <tr>\n",
       "      <th>2022-10-17</th>\n",
       "      <td>NaN</td>\n",
       "      <td>NaN</td>\n",
       "      <td>NaN</td>\n",
       "      <td>NaN</td>\n",
       "      <td>NaN</td>\n",
       "      <td>NaN</td>\n",
       "      <td>NaN</td>\n",
       "      <td>NaN</td>\n",
       "      <td>NaN</td>\n",
       "      <td>NaN</td>\n",
       "      <td>...</td>\n",
       "      <td>38.120000</td>\n",
       "      <td>0.00</td>\n",
       "      <td>0.00</td>\n",
       "      <td>0.00</td>\n",
       "      <td>0.0</td>\n",
       "      <td>0.0</td>\n",
       "      <td>0.0</td>\n",
       "      <td>0.00</td>\n",
       "      <td>0.052336</td>\n",
       "      <td>0.375431</td>\n",
       "    </tr>\n",
       "    <tr>\n",
       "      <th>2022-10-23</th>\n",
       "      <td>NaN</td>\n",
       "      <td>NaN</td>\n",
       "      <td>NaN</td>\n",
       "      <td>NaN</td>\n",
       "      <td>NaN</td>\n",
       "      <td>NaN</td>\n",
       "      <td>NaN</td>\n",
       "      <td>NaN</td>\n",
       "      <td>NaN</td>\n",
       "      <td>NaN</td>\n",
       "      <td>...</td>\n",
       "      <td>16.670000</td>\n",
       "      <td>0.00</td>\n",
       "      <td>0.00</td>\n",
       "      <td>0.00</td>\n",
       "      <td>0.0</td>\n",
       "      <td>0.0</td>\n",
       "      <td>0.0</td>\n",
       "      <td>0.00</td>\n",
       "      <td>0.028254</td>\n",
       "      <td>0.349022</td>\n",
       "    </tr>\n",
       "    <tr>\n",
       "      <th>2022-10-26</th>\n",
       "      <td>NaN</td>\n",
       "      <td>NaN</td>\n",
       "      <td>NaN</td>\n",
       "      <td>NaN</td>\n",
       "      <td>NaN</td>\n",
       "      <td>NaN</td>\n",
       "      <td>NaN</td>\n",
       "      <td>NaN</td>\n",
       "      <td>NaN</td>\n",
       "      <td>NaN</td>\n",
       "      <td>...</td>\n",
       "      <td>16.670000</td>\n",
       "      <td>0.00</td>\n",
       "      <td>0.00</td>\n",
       "      <td>0.00</td>\n",
       "      <td>0.0</td>\n",
       "      <td>0.0</td>\n",
       "      <td>0.0</td>\n",
       "      <td>0.00</td>\n",
       "      <td>0.073622</td>\n",
       "      <td>0.339509</td>\n",
       "    </tr>\n",
       "    <tr>\n",
       "      <th>2022-10-28</th>\n",
       "      <td>NaN</td>\n",
       "      <td>NaN</td>\n",
       "      <td>NaN</td>\n",
       "      <td>NaN</td>\n",
       "      <td>NaN</td>\n",
       "      <td>NaN</td>\n",
       "      <td>NaN</td>\n",
       "      <td>NaN</td>\n",
       "      <td>NaN</td>\n",
       "      <td>NaN</td>\n",
       "      <td>...</td>\n",
       "      <td>26.000000</td>\n",
       "      <td>6.00</td>\n",
       "      <td>6.00</td>\n",
       "      <td>0.00</td>\n",
       "      <td>0.0</td>\n",
       "      <td>2.0</td>\n",
       "      <td>0.0</td>\n",
       "      <td>0.00</td>\n",
       "      <td>0.077969</td>\n",
       "      <td>0.293592</td>\n",
       "    </tr>\n",
       "    <tr>\n",
       "      <th>2022-10-31</th>\n",
       "      <td>NaN</td>\n",
       "      <td>NaN</td>\n",
       "      <td>NaN</td>\n",
       "      <td>NaN</td>\n",
       "      <td>NaN</td>\n",
       "      <td>NaN</td>\n",
       "      <td>NaN</td>\n",
       "      <td>NaN</td>\n",
       "      <td>NaN</td>\n",
       "      <td>NaN</td>\n",
       "      <td>...</td>\n",
       "      <td>6.900000</td>\n",
       "      <td>0.00</td>\n",
       "      <td>0.00</td>\n",
       "      <td>0.00</td>\n",
       "      <td>0.0</td>\n",
       "      <td>0.0</td>\n",
       "      <td>0.0</td>\n",
       "      <td>0.00</td>\n",
       "      <td>0.094998</td>\n",
       "      <td>0.254816</td>\n",
       "    </tr>\n",
       "  </tbody>\n",
       "</table>\n",
       "<p>704 rows × 26 columns</p>\n",
       "</div>"
      ],
      "text/plain": [
       "            meme_Tone  meme_Clout  meme_WPS  meme_BigWords  meme_emotion  \\\n",
       "date                                                                       \n",
       "2020-01-01        NaN         NaN       NaN            NaN           NaN   \n",
       "2020-01-02        NaN         NaN       NaN            NaN           NaN   \n",
       "2020-01-10        NaN         NaN       NaN            NaN           NaN   \n",
       "2020-01-18    29.9625      13.755    11.275        13.1425           1.5   \n",
       "2020-01-19        NaN         NaN       NaN            NaN           NaN   \n",
       "...               ...         ...       ...            ...           ...   \n",
       "2022-10-17        NaN         NaN       NaN            NaN           NaN   \n",
       "2022-10-23        NaN         NaN       NaN            NaN           NaN   \n",
       "2022-10-26        NaN         NaN       NaN            NaN           NaN   \n",
       "2022-10-28        NaN         NaN       NaN            NaN           NaN   \n",
       "2022-10-31        NaN         NaN       NaN            NaN           NaN   \n",
       "\n",
       "            meme_emo_neg  meme_emo_pos  meme_emo_anx  meme_emo_anger  \\\n",
       "date                                                                   \n",
       "2020-01-01           NaN           NaN           NaN             NaN   \n",
       "2020-01-02           NaN           NaN           NaN             NaN   \n",
       "2020-01-10           NaN           NaN           NaN             NaN   \n",
       "2020-01-18           1.5           0.0           0.5             0.0   \n",
       "2020-01-19           NaN           NaN           NaN             NaN   \n",
       "...                  ...           ...           ...             ...   \n",
       "2022-10-17           NaN           NaN           NaN             NaN   \n",
       "2022-10-23           NaN           NaN           NaN             NaN   \n",
       "2022-10-26           NaN           NaN           NaN             NaN   \n",
       "2022-10-28           NaN           NaN           NaN             NaN   \n",
       "2022-10-31           NaN           NaN           NaN             NaN   \n",
       "\n",
       "            meme_emo_sad  ...  tweet_BigWords  tweet_emotion  tweet_emo_neg  \\\n",
       "date                      ...                                                 \n",
       "2020-01-01           NaN  ...       33.330000           0.00           0.00   \n",
       "2020-01-02           NaN  ...       40.000000          40.00           0.00   \n",
       "2020-01-10           NaN  ...       14.760000           1.96           1.96   \n",
       "2020-01-18           0.0  ...             NaN            NaN            NaN   \n",
       "2020-01-19           NaN  ...       49.893333           2.15           0.00   \n",
       "...                  ...  ...             ...            ...            ...   \n",
       "2022-10-17           NaN  ...       38.120000           0.00           0.00   \n",
       "2022-10-23           NaN  ...       16.670000           0.00           0.00   \n",
       "2022-10-26           NaN  ...       16.670000           0.00           0.00   \n",
       "2022-10-28           NaN  ...       26.000000           6.00           6.00   \n",
       "2022-10-31           NaN  ...        6.900000           0.00           0.00   \n",
       "\n",
       "            tweet_emo_pos  tweet_emo_anx  tweet_emo_anger  tweet_emo_sad  \\\n",
       "date                                                                       \n",
       "2020-01-01           0.00            0.0              0.0            0.0   \n",
       "2020-01-02           0.00            0.0              0.0            0.0   \n",
       "2020-01-10           0.00            0.0              0.0            0.0   \n",
       "2020-01-18            NaN            NaN              NaN            NaN   \n",
       "2020-01-19           2.15            0.0              0.0            0.0   \n",
       "...                   ...            ...              ...            ...   \n",
       "2022-10-17           0.00            0.0              0.0            0.0   \n",
       "2022-10-23           0.00            0.0              0.0            0.0   \n",
       "2022-10-26           0.00            0.0              0.0            0.0   \n",
       "2022-10-28           0.00            0.0              2.0            0.0   \n",
       "2022-10-31           0.00            0.0              0.0            0.0   \n",
       "\n",
       "            tweet_swear  tweet_HS  tweet_OL  \n",
       "date                                         \n",
       "2020-01-01         0.00  0.073252  0.436326  \n",
       "2020-01-02        20.00  0.061482  0.928630  \n",
       "2020-01-10         3.61  0.052799  0.695365  \n",
       "2020-01-18          NaN       NaN       NaN  \n",
       "2020-01-19         0.00  0.038097  0.348826  \n",
       "...                 ...       ...       ...  \n",
       "2022-10-17         0.00  0.052336  0.375431  \n",
       "2022-10-23         0.00  0.028254  0.349022  \n",
       "2022-10-26         0.00  0.073622  0.339509  \n",
       "2022-10-28         0.00  0.077969  0.293592  \n",
       "2022-10-31         0.00  0.094998  0.254816  \n",
       "\n",
       "[704 rows x 26 columns]"
      ]
     },
     "execution_count": 55,
     "metadata": {},
     "output_type": "execute_result"
    }
   ],
   "source": [
    "df_meme_tweet"
   ]
  },
  {
   "cell_type": "code",
   "execution_count": 56,
   "metadata": {},
   "outputs": [
    {
     "ename": "MissingDataError",
     "evalue": "exog contains inf or nans",
     "output_type": "error",
     "traceback": [
      "\u001b[0;31m---------------------------------------------------------------------------\u001b[0m",
      "\u001b[0;31mMissingDataError\u001b[0m                          Traceback (most recent call last)",
      "Cell \u001b[0;32mIn [56], line 5\u001b[0m\n\u001b[1;32m      2\u001b[0m df_exog \u001b[39m=\u001b[39m df_meme_tweet[[\u001b[39m'\u001b[39m\u001b[39mmeme_Tone\u001b[39m\u001b[39m'\u001b[39m, \u001b[39m'\u001b[39m\u001b[39mtweet_Tone\u001b[39m\u001b[39m'\u001b[39m]]\n\u001b[1;32m      4\u001b[0m df_exog \u001b[39m=\u001b[39m sm\u001b[39m.\u001b[39madd_constant(df_exog)\n\u001b[0;32m----> 5\u001b[0m model \u001b[39m=\u001b[39m sm\u001b[39m.\u001b[39;49mOLS(df_endog, df_exog)\n\u001b[1;32m      6\u001b[0m results \u001b[39m=\u001b[39m model\u001b[39m.\u001b[39mfit()\n",
      "File \u001b[0;32m~/tensorflow-test/env/lib/python3.8/site-packages/statsmodels/regression/linear_model.py:890\u001b[0m, in \u001b[0;36mOLS.__init__\u001b[0;34m(self, endog, exog, missing, hasconst, **kwargs)\u001b[0m\n\u001b[1;32m    887\u001b[0m     msg \u001b[39m=\u001b[39m (\u001b[39m\"\u001b[39m\u001b[39mWeights are not supported in OLS and will be ignored\u001b[39m\u001b[39m\"\u001b[39m\n\u001b[1;32m    888\u001b[0m            \u001b[39m\"\u001b[39m\u001b[39mAn exception will be raised in the next version.\u001b[39m\u001b[39m\"\u001b[39m)\n\u001b[1;32m    889\u001b[0m     warnings\u001b[39m.\u001b[39mwarn(msg, ValueWarning)\n\u001b[0;32m--> 890\u001b[0m \u001b[39msuper\u001b[39;49m(OLS, \u001b[39mself\u001b[39;49m)\u001b[39m.\u001b[39;49m\u001b[39m__init__\u001b[39;49m(endog, exog, missing\u001b[39m=\u001b[39;49mmissing,\n\u001b[1;32m    891\u001b[0m                           hasconst\u001b[39m=\u001b[39;49mhasconst, \u001b[39m*\u001b[39;49m\u001b[39m*\u001b[39;49mkwargs)\n\u001b[1;32m    892\u001b[0m \u001b[39mif\u001b[39;00m \u001b[39m\"\u001b[39m\u001b[39mweights\u001b[39m\u001b[39m\"\u001b[39m \u001b[39min\u001b[39;00m \u001b[39mself\u001b[39m\u001b[39m.\u001b[39m_init_keys:\n\u001b[1;32m    893\u001b[0m     \u001b[39mself\u001b[39m\u001b[39m.\u001b[39m_init_keys\u001b[39m.\u001b[39mremove(\u001b[39m\"\u001b[39m\u001b[39mweights\u001b[39m\u001b[39m\"\u001b[39m)\n",
      "File \u001b[0;32m~/tensorflow-test/env/lib/python3.8/site-packages/statsmodels/regression/linear_model.py:717\u001b[0m, in \u001b[0;36mWLS.__init__\u001b[0;34m(self, endog, exog, weights, missing, hasconst, **kwargs)\u001b[0m\n\u001b[1;32m    715\u001b[0m \u001b[39melse\u001b[39;00m:\n\u001b[1;32m    716\u001b[0m     weights \u001b[39m=\u001b[39m weights\u001b[39m.\u001b[39msqueeze()\n\u001b[0;32m--> 717\u001b[0m \u001b[39msuper\u001b[39;49m(WLS, \u001b[39mself\u001b[39;49m)\u001b[39m.\u001b[39;49m\u001b[39m__init__\u001b[39;49m(endog, exog, missing\u001b[39m=\u001b[39;49mmissing,\n\u001b[1;32m    718\u001b[0m                           weights\u001b[39m=\u001b[39;49mweights, hasconst\u001b[39m=\u001b[39;49mhasconst, \u001b[39m*\u001b[39;49m\u001b[39m*\u001b[39;49mkwargs)\n\u001b[1;32m    719\u001b[0m nobs \u001b[39m=\u001b[39m \u001b[39mself\u001b[39m\u001b[39m.\u001b[39mexog\u001b[39m.\u001b[39mshape[\u001b[39m0\u001b[39m]\n\u001b[1;32m    720\u001b[0m weights \u001b[39m=\u001b[39m \u001b[39mself\u001b[39m\u001b[39m.\u001b[39mweights\n",
      "File \u001b[0;32m~/tensorflow-test/env/lib/python3.8/site-packages/statsmodels/regression/linear_model.py:191\u001b[0m, in \u001b[0;36mRegressionModel.__init__\u001b[0;34m(self, endog, exog, **kwargs)\u001b[0m\n\u001b[1;32m    190\u001b[0m \u001b[39mdef\u001b[39;00m \u001b[39m__init__\u001b[39m(\u001b[39mself\u001b[39m, endog, exog, \u001b[39m*\u001b[39m\u001b[39m*\u001b[39mkwargs):\n\u001b[0;32m--> 191\u001b[0m     \u001b[39msuper\u001b[39;49m(RegressionModel, \u001b[39mself\u001b[39;49m)\u001b[39m.\u001b[39;49m\u001b[39m__init__\u001b[39;49m(endog, exog, \u001b[39m*\u001b[39;49m\u001b[39m*\u001b[39;49mkwargs)\n\u001b[1;32m    192\u001b[0m     \u001b[39mself\u001b[39m\u001b[39m.\u001b[39m_data_attr\u001b[39m.\u001b[39mextend([\u001b[39m'\u001b[39m\u001b[39mpinv_wexog\u001b[39m\u001b[39m'\u001b[39m, \u001b[39m'\u001b[39m\u001b[39mwendog\u001b[39m\u001b[39m'\u001b[39m, \u001b[39m'\u001b[39m\u001b[39mwexog\u001b[39m\u001b[39m'\u001b[39m, \u001b[39m'\u001b[39m\u001b[39mweights\u001b[39m\u001b[39m'\u001b[39m])\n",
      "File \u001b[0;32m~/tensorflow-test/env/lib/python3.8/site-packages/statsmodels/base/model.py:267\u001b[0m, in \u001b[0;36mLikelihoodModel.__init__\u001b[0;34m(self, endog, exog, **kwargs)\u001b[0m\n\u001b[1;32m    266\u001b[0m \u001b[39mdef\u001b[39;00m \u001b[39m__init__\u001b[39m(\u001b[39mself\u001b[39m, endog, exog\u001b[39m=\u001b[39m\u001b[39mNone\u001b[39;00m, \u001b[39m*\u001b[39m\u001b[39m*\u001b[39mkwargs):\n\u001b[0;32m--> 267\u001b[0m     \u001b[39msuper\u001b[39;49m()\u001b[39m.\u001b[39;49m\u001b[39m__init__\u001b[39;49m(endog, exog, \u001b[39m*\u001b[39;49m\u001b[39m*\u001b[39;49mkwargs)\n\u001b[1;32m    268\u001b[0m     \u001b[39mself\u001b[39m\u001b[39m.\u001b[39minitialize()\n",
      "File \u001b[0;32m~/tensorflow-test/env/lib/python3.8/site-packages/statsmodels/base/model.py:92\u001b[0m, in \u001b[0;36mModel.__init__\u001b[0;34m(self, endog, exog, **kwargs)\u001b[0m\n\u001b[1;32m     90\u001b[0m missing \u001b[39m=\u001b[39m kwargs\u001b[39m.\u001b[39mpop(\u001b[39m'\u001b[39m\u001b[39mmissing\u001b[39m\u001b[39m'\u001b[39m, \u001b[39m'\u001b[39m\u001b[39mnone\u001b[39m\u001b[39m'\u001b[39m)\n\u001b[1;32m     91\u001b[0m hasconst \u001b[39m=\u001b[39m kwargs\u001b[39m.\u001b[39mpop(\u001b[39m'\u001b[39m\u001b[39mhasconst\u001b[39m\u001b[39m'\u001b[39m, \u001b[39mNone\u001b[39;00m)\n\u001b[0;32m---> 92\u001b[0m \u001b[39mself\u001b[39m\u001b[39m.\u001b[39mdata \u001b[39m=\u001b[39m \u001b[39mself\u001b[39;49m\u001b[39m.\u001b[39;49m_handle_data(endog, exog, missing, hasconst,\n\u001b[1;32m     93\u001b[0m                               \u001b[39m*\u001b[39;49m\u001b[39m*\u001b[39;49mkwargs)\n\u001b[1;32m     94\u001b[0m \u001b[39mself\u001b[39m\u001b[39m.\u001b[39mk_constant \u001b[39m=\u001b[39m \u001b[39mself\u001b[39m\u001b[39m.\u001b[39mdata\u001b[39m.\u001b[39mk_constant\n\u001b[1;32m     95\u001b[0m \u001b[39mself\u001b[39m\u001b[39m.\u001b[39mexog \u001b[39m=\u001b[39m \u001b[39mself\u001b[39m\u001b[39m.\u001b[39mdata\u001b[39m.\u001b[39mexog\n",
      "File \u001b[0;32m~/tensorflow-test/env/lib/python3.8/site-packages/statsmodels/base/model.py:132\u001b[0m, in \u001b[0;36mModel._handle_data\u001b[0;34m(self, endog, exog, missing, hasconst, **kwargs)\u001b[0m\n\u001b[1;32m    131\u001b[0m \u001b[39mdef\u001b[39;00m \u001b[39m_handle_data\u001b[39m(\u001b[39mself\u001b[39m, endog, exog, missing, hasconst, \u001b[39m*\u001b[39m\u001b[39m*\u001b[39mkwargs):\n\u001b[0;32m--> 132\u001b[0m     data \u001b[39m=\u001b[39m handle_data(endog, exog, missing, hasconst, \u001b[39m*\u001b[39;49m\u001b[39m*\u001b[39;49mkwargs)\n\u001b[1;32m    133\u001b[0m     \u001b[39m# kwargs arrays could have changed, easier to just attach here\u001b[39;00m\n\u001b[1;32m    134\u001b[0m     \u001b[39mfor\u001b[39;00m key \u001b[39min\u001b[39;00m kwargs:\n",
      "File \u001b[0;32m~/tensorflow-test/env/lib/python3.8/site-packages/statsmodels/base/data.py:673\u001b[0m, in \u001b[0;36mhandle_data\u001b[0;34m(endog, exog, missing, hasconst, **kwargs)\u001b[0m\n\u001b[1;32m    670\u001b[0m     exog \u001b[39m=\u001b[39m np\u001b[39m.\u001b[39masarray(exog)\n\u001b[1;32m    672\u001b[0m klass \u001b[39m=\u001b[39m handle_data_class_factory(endog, exog)\n\u001b[0;32m--> 673\u001b[0m \u001b[39mreturn\u001b[39;00m klass(endog, exog\u001b[39m=\u001b[39;49mexog, missing\u001b[39m=\u001b[39;49mmissing, hasconst\u001b[39m=\u001b[39;49mhasconst,\n\u001b[1;32m    674\u001b[0m              \u001b[39m*\u001b[39;49m\u001b[39m*\u001b[39;49mkwargs)\n",
      "File \u001b[0;32m~/tensorflow-test/env/lib/python3.8/site-packages/statsmodels/base/data.py:86\u001b[0m, in \u001b[0;36mModelData.__init__\u001b[0;34m(self, endog, exog, missing, hasconst, **kwargs)\u001b[0m\n\u001b[1;32m     84\u001b[0m \u001b[39mself\u001b[39m\u001b[39m.\u001b[39mconst_idx \u001b[39m=\u001b[39m \u001b[39mNone\u001b[39;00m\n\u001b[1;32m     85\u001b[0m \u001b[39mself\u001b[39m\u001b[39m.\u001b[39mk_constant \u001b[39m=\u001b[39m \u001b[39m0\u001b[39m\n\u001b[0;32m---> 86\u001b[0m \u001b[39mself\u001b[39;49m\u001b[39m.\u001b[39;49m_handle_constant(hasconst)\n\u001b[1;32m     87\u001b[0m \u001b[39mself\u001b[39m\u001b[39m.\u001b[39m_check_integrity()\n\u001b[1;32m     88\u001b[0m \u001b[39mself\u001b[39m\u001b[39m.\u001b[39m_cache \u001b[39m=\u001b[39m {}\n",
      "File \u001b[0;32m~/tensorflow-test/env/lib/python3.8/site-packages/statsmodels/base/data.py:132\u001b[0m, in \u001b[0;36mModelData._handle_constant\u001b[0;34m(self, hasconst)\u001b[0m\n\u001b[1;32m    130\u001b[0m exog_max \u001b[39m=\u001b[39m np\u001b[39m.\u001b[39mmax(\u001b[39mself\u001b[39m\u001b[39m.\u001b[39mexog, axis\u001b[39m=\u001b[39m\u001b[39m0\u001b[39m)\n\u001b[1;32m    131\u001b[0m \u001b[39mif\u001b[39;00m \u001b[39mnot\u001b[39;00m np\u001b[39m.\u001b[39misfinite(exog_max)\u001b[39m.\u001b[39mall():\n\u001b[0;32m--> 132\u001b[0m     \u001b[39mraise\u001b[39;00m MissingDataError(\u001b[39m'\u001b[39m\u001b[39mexog contains inf or nans\u001b[39m\u001b[39m'\u001b[39m)\n\u001b[1;32m    133\u001b[0m exog_min \u001b[39m=\u001b[39m np\u001b[39m.\u001b[39mmin(\u001b[39mself\u001b[39m\u001b[39m.\u001b[39mexog, axis\u001b[39m=\u001b[39m\u001b[39m0\u001b[39m)\n\u001b[1;32m    134\u001b[0m const_idx \u001b[39m=\u001b[39m np\u001b[39m.\u001b[39mwhere(exog_max \u001b[39m==\u001b[39m exog_min)[\u001b[39m0\u001b[39m]\u001b[39m.\u001b[39msqueeze()\n",
      "\u001b[0;31mMissingDataError\u001b[0m: exog contains inf or nans"
     ]
    }
   ],
   "source": [
    "df_endog = df_meme_tweet.index.to_julian_date()\n",
    "df_exog = df_meme_tweet[['meme_Tone', 'tweet_Tone']]\n",
    "\n",
    "df_exog = sm.add_constant(df_exog)\n",
    "model = sm.OLS(df_endog, df_exog)\n",
    "results = model.fit()"
   ]
  },
  {
   "cell_type": "code",
   "execution_count": 50,
   "metadata": {},
   "outputs": [
    {
     "data": {
      "text/html": [
       "<table class=\"simpletable\">\n",
       "<caption>OLS Regression Results</caption>\n",
       "<tr>\n",
       "  <th>Dep. Variable:</th>            <td>y</td>        <th>  R-squared:         </th> <td>   0.011</td>\n",
       "</tr>\n",
       "<tr>\n",
       "  <th>Model:</th>                   <td>OLS</td>       <th>  Adj. R-squared:    </th> <td>   0.003</td>\n",
       "</tr>\n",
       "<tr>\n",
       "  <th>Method:</th>             <td>Least Squares</td>  <th>  F-statistic:       </th> <td>   1.376</td>\n",
       "</tr>\n",
       "<tr>\n",
       "  <th>Date:</th>             <td>Thu, 10 Nov 2022</td> <th>  Prob (F-statistic):</th>  <td> 0.254</td> \n",
       "</tr>\n",
       "<tr>\n",
       "  <th>Time:</th>                 <td>19:10:37</td>     <th>  Log-Likelihood:    </th> <td> -1777.5</td>\n",
       "</tr>\n",
       "<tr>\n",
       "  <th>No. Observations:</th>      <td>   253</td>      <th>  AIC:               </th> <td>   3561.</td>\n",
       "</tr>\n",
       "<tr>\n",
       "  <th>Df Residuals:</th>          <td>   250</td>      <th>  BIC:               </th> <td>   3572.</td>\n",
       "</tr>\n",
       "<tr>\n",
       "  <th>Df Model:</th>              <td>     2</td>      <th>                     </th>     <td> </td>   \n",
       "</tr>\n",
       "<tr>\n",
       "  <th>Covariance Type:</th>      <td>nonrobust</td>    <th>                     </th>     <td> </td>   \n",
       "</tr>\n",
       "</table>\n",
       "<table class=\"simpletable\">\n",
       "<tr>\n",
       "       <td></td>         <th>coef</th>     <th>std err</th>      <th>t</th>      <th>P>|t|</th>  <th>[0.025</th>    <th>0.975]</th>  \n",
       "</tr>\n",
       "<tr>\n",
       "  <th>const</th>      <td> 2.459e+06</td> <td>   34.793</td> <td> 7.07e+04</td> <td> 0.000</td> <td> 2.46e+06</td> <td> 2.46e+06</td>\n",
       "</tr>\n",
       "<tr>\n",
       "  <th>meme_Tone</th>  <td>    0.6110</td> <td>    0.651</td> <td>    0.939</td> <td> 0.349</td> <td>   -0.671</td> <td>    1.893</td>\n",
       "</tr>\n",
       "<tr>\n",
       "  <th>tweet_Tone</th> <td>    1.0030</td> <td>    0.736</td> <td>    1.363</td> <td> 0.174</td> <td>   -0.446</td> <td>    2.452</td>\n",
       "</tr>\n",
       "</table>\n",
       "<table class=\"simpletable\">\n",
       "<tr>\n",
       "  <th>Omnibus:</th>       <td>40.286</td> <th>  Durbin-Watson:     </th> <td>   0.021</td>\n",
       "</tr>\n",
       "<tr>\n",
       "  <th>Prob(Omnibus):</th> <td> 0.000</td> <th>  Jarque-Bera (JB):  </th> <td>  18.266</td>\n",
       "</tr>\n",
       "<tr>\n",
       "  <th>Skew:</th>          <td> 0.471</td> <th>  Prob(JB):          </th> <td>0.000108</td>\n",
       "</tr>\n",
       "<tr>\n",
       "  <th>Kurtosis:</th>      <td> 2.080</td> <th>  Cond. No.          </th> <td>    101.</td>\n",
       "</tr>\n",
       "</table><br/><br/>Notes:<br/>[1] Standard Errors assume that the covariance matrix of the errors is correctly specified."
      ],
      "text/plain": [
       "<class 'statsmodels.iolib.summary.Summary'>\n",
       "\"\"\"\n",
       "                            OLS Regression Results                            \n",
       "==============================================================================\n",
       "Dep. Variable:                      y   R-squared:                       0.011\n",
       "Model:                            OLS   Adj. R-squared:                  0.003\n",
       "Method:                 Least Squares   F-statistic:                     1.376\n",
       "Date:                Thu, 10 Nov 2022   Prob (F-statistic):              0.254\n",
       "Time:                        19:10:37   Log-Likelihood:                -1777.5\n",
       "No. Observations:                 253   AIC:                             3561.\n",
       "Df Residuals:                     250   BIC:                             3572.\n",
       "Df Model:                           2                                         \n",
       "Covariance Type:            nonrobust                                         \n",
       "==============================================================================\n",
       "                 coef    std err          t      P>|t|      [0.025      0.975]\n",
       "------------------------------------------------------------------------------\n",
       "const       2.459e+06     34.793   7.07e+04      0.000    2.46e+06    2.46e+06\n",
       "meme_Tone      0.6110      0.651      0.939      0.349      -0.671       1.893\n",
       "tweet_Tone     1.0030      0.736      1.363      0.174      -0.446       2.452\n",
       "==============================================================================\n",
       "Omnibus:                       40.286   Durbin-Watson:                   0.021\n",
       "Prob(Omnibus):                  0.000   Jarque-Bera (JB):               18.266\n",
       "Skew:                           0.471   Prob(JB):                     0.000108\n",
       "Kurtosis:                       2.080   Cond. No.                         101.\n",
       "==============================================================================\n",
       "\n",
       "Notes:\n",
       "[1] Standard Errors assume that the covariance matrix of the errors is correctly specified.\n",
       "\"\"\""
      ]
     },
     "execution_count": 50,
     "metadata": {},
     "output_type": "execute_result"
    }
   ],
   "source": [
    "results.summary()"
   ]
  },
  {
   "cell_type": "code",
   "execution_count": null,
   "metadata": {},
   "outputs": [],
   "source": []
  },
  {
   "cell_type": "code",
   "execution_count": null,
   "metadata": {},
   "outputs": [],
   "source": []
  },
  {
   "cell_type": "markdown",
   "metadata": {},
   "source": [
    "TODO: Add all the attributes together as CoreHostility"
   ]
  },
  {
   "cell_type": "code",
   "execution_count": null,
   "metadata": {},
   "outputs": [],
   "source": []
  },
  {
   "cell_type": "markdown",
   "metadata": {},
   "source": [
    "F-test between Tweet replies and Meme replies"
   ]
  },
  {
   "cell_type": "code",
   "execution_count": null,
   "metadata": {},
   "outputs": [],
   "source": []
  },
  {
   "cell_type": "code",
   "execution_count": null,
   "metadata": {},
   "outputs": [],
   "source": []
  },
  {
   "cell_type": "code",
   "execution_count": null,
   "metadata": {},
   "outputs": [],
   "source": []
  },
  {
   "cell_type": "code",
   "execution_count": null,
   "metadata": {},
   "outputs": [],
   "source": []
  },
  {
   "cell_type": "code",
   "execution_count": null,
   "metadata": {},
   "outputs": [],
   "source": []
  },
  {
   "cell_type": "code",
   "execution_count": null,
   "metadata": {},
   "outputs": [],
   "source": []
  },
  {
   "cell_type": "code",
   "execution_count": null,
   "metadata": {},
   "outputs": [],
   "source": []
  },
  {
   "cell_type": "code",
   "execution_count": null,
   "metadata": {},
   "outputs": [],
   "source": []
  },
  {
   "cell_type": "code",
   "execution_count": 11,
   "metadata": {},
   "outputs": [],
   "source": [
    "df_meme = df[df['source']=='meme']"
   ]
  },
  {
   "cell_type": "code",
   "execution_count": 12,
   "metadata": {},
   "outputs": [],
   "source": [
    "from sklearn.linear_model import LinearRegression\n",
    "date = np.array(df_meme['date'].unique().tolist(), dtype='datetime64')\n",
    "date = date.reshape(-1,1)\n",
    "date.sort()"
   ]
  },
  {
   "cell_type": "code",
   "execution_count": 21,
   "metadata": {},
   "outputs": [
    {
     "data": {
      "image/png": "[encoded data removed]",
      "text/plain": [
       "<Figure size 432x288 with 1 Axes>"
      ]
     },
     "metadata": {
      "needs_background": "light"
     },
     "output_type": "display_data"
    }
   ],
   "source": [
    "data_time = np.asarray(df_meme['date'].unique())\n",
    "y = [i for i in df_meme.groupby('date')['emo_neg'].mean()]\n",
    "\n",
    "df = pd.DataFrame({'time': data_time, 'count': y})\n",
    "df.time = pd.to_datetime(df.time)\n",
    "\n",
    "regr = LinearRegression()\n",
    "regr.fit(df.time.values.reshape(-1, 1), df['count'].values.reshape(-1, 1))\n",
    "\n",
    "# Make predictions using the testing set\n",
    "y_pred = regr.predict(df.time.values.astype(float).reshape(-1, 1))\n",
    "df['pred'] = y_pred\n",
    "\n",
    "ax = df.plot(x='time', y='count', color='blue', style='.')\n",
    "# df.plot(x='time', y='pred', color='r', linewidth=3, ax=ax, alpha=0.5)\n",
    "# do not plot the highest value\n",
    "df.plot(x='time', y='pred', color='r', linewidth=3, ax=ax, alpha=0.5, ylim=(-5, 20))\n",
    "\n",
    "ax.set_title('Negative emotion of Meme Replies')\n",
    "ax.set_xlabel('Date')\n",
    "# ax.set_ylabel('Metric')\n",
    "\n",
    "plt.legend(loc=1)\n",
    "plt.show()"
   ]
  },
  {
   "cell_type": "code",
   "execution_count": null,
   "metadata": {},
   "outputs": [],
   "source": []
  }
 ],
 "metadata": {
  "kernelspec": {
   "display_name": "Python 3.8.13",
   "language": "python",
   "name": "python3"
  },
  "language_info": {
   "codemirror_mode": {
    "name": "ipython",
    "version": 3
   },
   "file_extension": ".py",
   "mimetype": "text/x-python",
   "name": "python",
   "nbconvert_exporter": "python",
   "pygments_lexer": "ipython3",
   "version": "3.8.13"
  },
  "orig_nbformat": 4,
  "vscode": {
   "interpreter": {
    "hash": "6b8c45d852a36dd5fe873a31ae302af0c50c60713fd79050bd94d04fcaf7d714"
   }
  }
 },
 "nbformat": 4,
 "nbformat_minor": 2
}
